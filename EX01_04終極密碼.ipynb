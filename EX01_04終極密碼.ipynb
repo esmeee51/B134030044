{
  "nbformat": 4,
  "nbformat_minor": 0,
  "metadata": {
    "colab": {
      "provenance": [],
      "authorship_tag": "ABX9TyNnGH4TZB9hW6b+pyW3RwJ1",
      "include_colab_link": true
    },
    "kernelspec": {
      "name": "python3",
      "display_name": "Python 3"
    },
    "language_info": {
      "name": "python"
    }
  },
  "cells": [
    {
      "cell_type": "markdown",
      "metadata": {
        "id": "view-in-github",
        "colab_type": "text"
      },
      "source": [
        "<a href=\"https://colab.research.google.com/github/esmeee51/B134030044/blob/main/EX01_04%E7%B5%82%E6%A5%B5%E5%AF%86%E7%A2%BC.ipynb\" target=\"_parent\"><img src=\"https://colab.research.google.com/assets/colab-badge.svg\" alt=\"Open In Colab\"/></a>"
      ]
    },
    {
      "cell_type": "code",
      "execution_count": 21,
      "metadata": {
        "id": "deVnKPGc3Aal",
        "colab": {
          "base_uri": "https://localhost:8080/"
        },
        "outputId": "7b5e7e61-0e77-4b8b-80ee-bcdf187747c0"
      },
      "outputs": [
        {
          "output_type": "stream",
          "name": "stdout",
          "text": [
            "0 - 100\n",
            "guess:30\n",
            "30 - 100\n",
            "guess:50\n",
            "50 - 100\n",
            "guess:70\n",
            "70 - 100\n",
            "guess:80\n",
            "80 - 100\n",
            "guess:90\n",
            "80 - 90\n",
            "guess:88\n",
            "80 - 88\n",
            "guess:85\n",
            "80 - 85\n",
            "guess:83\n",
            "83 - 85\n",
            "guess:84\n",
            "爆炸!!炸彈是 84 !\n"
          ]
        }
      ],
      "source": [
        "import random\n",
        "bomb = random.randint(1,99)\n",
        "\n",
        "lf = 0\n",
        "rt = 100\n",
        "\n",
        "qu = -1\n",
        "\n",
        "while qu != bomb:\n",
        "  print(lf,'-',rt)\n",
        "  gu = int(input('guess:'))\n",
        "  if gu <= lf or gu >= rt:\n",
        "    print(\"超過範圍\")\n",
        "  elif gu < bomb:\n",
        "      lf = gu\n",
        "  elif gu > bomb:\n",
        "      rt = gu\n",
        "  qu = gu\n",
        "print(\"爆炸!!炸彈是\", bomb, \"!\")"
      ]
    }
  ]
}