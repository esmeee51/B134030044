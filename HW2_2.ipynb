{
  "nbformat": 4,
  "nbformat_minor": 0,
  "metadata": {
    "colab": {
      "provenance": [],
      "include_colab_link": true
    },
    "kernelspec": {
      "name": "python3",
      "display_name": "Python 3"
    },
    "language_info": {
      "name": "python"
    }
  },
  "cells": [
    {
      "cell_type": "markdown",
      "metadata": {
        "id": "view-in-github",
        "colab_type": "text"
      },
      "source": [
        "<a href=\"https://colab.research.google.com/github/esmeee51/B134030044/blob/main/HW2_2.ipynb\" target=\"_parent\"><img src=\"https://colab.research.google.com/assets/colab-badge.svg\" alt=\"Open In Colab\"/></a>"
      ]
    },
    {
      "cell_type": "markdown",
      "source": [
        "## 問題定義"
      ],
      "metadata": {
        "id": "LuGH8K4Mbmmp"
      }
    },
    {
      "cell_type": "markdown",
      "source": [
        "**目標**\n",
        "\n",
        "本專案旨在透過紅酒的13項化學成分特徵，建立分類模型以預測紅酒所屬的品種，包含三類：Class_0、Class_1、Class_2。\n",
        "\n",
        "**任務類型**\n",
        "\n",
        "多類別監督式分類（Multiclass Supervised Classification）。\n",
        "\n",
        "**使用模型**\n",
        "\n",
        "K-Nearest Neighbors（KNN）演算法\n",
        "\n",
        "**評估指標**\n",
        "- 主要：Accuracy（準確率）\n",
        "- 輔助：Precision、Recall、F1-score\n",
        "- 使用 Confusion Matrix（混淆矩陣）觀察各類別預測表現"
      ],
      "metadata": {
        "id": "1z_kgAT9bqB5"
      }
    },
    {
      "cell_type": "markdown",
      "source": [
        "## 資料收集"
      ],
      "metadata": {
        "id": "5YCyVo5Xbuq4"
      }
    },
    {
      "cell_type": "markdown",
      "source": [
        "| 來源                   | 特徵數 | 樣本數 | 類別 |\n",
        "| -------------------- | --- | --- | -- |\n",
        "| scikit-learn 內建 Wine | 13  | 178 | 3  |"
      ],
      "metadata": {
        "id": "lfAjM_KkbyXw"
      }
    },
    {
      "cell_type": "markdown",
      "source": [
        "特徵欄位：\n",
        "\n",
        "- alcohol\n",
        "- malic_acid\n",
        "- ash\n",
        "- alcalinity_of_ash\n",
        "- magnesium\n",
        "- total_phenols\n",
        "- flavanoids\n",
        "- nonflavanoid_phenols\n",
        "- proanthocyanins\n",
        "- color_intensity\n",
        "- hue\n",
        "- od280/od315_of_diluted_wines\n",
        "- proline"
      ],
      "metadata": {
        "id": "eQKZj2Rfd8Ea"
      }
    },
    {
      "cell_type": "code",
      "source": [
        "from sklearn.datasets import load_wine\n",
        "wine = load_wine()\n",
        "X, y = wine.data, wine.target\n",
        "feature_names, target_names = wine.feature_names, wine.target_names"
      ],
      "metadata": {
        "id": "EMn8_c-xb3jI"
      },
      "execution_count": null,
      "outputs": []
    },
    {
      "cell_type": "markdown",
      "source": [
        "## 資料前處理"
      ],
      "metadata": {
        "id": "C2u_ggR-eJ1d"
      }
    },
    {
      "cell_type": "markdown",
      "source": [
        "### 資料清理"
      ],
      "metadata": {
        "id": "7yHPecJ2eMid"
      }
    },
    {
      "cell_type": "markdown",
      "source": [
        "載入資料後檢查缺失值，結果顯示無缺漏。"
      ],
      "metadata": {
        "id": "Wc1IVZueeKmn"
      }
    },
    {
      "cell_type": "code",
      "source": [
        "import pandas as pd\n",
        "\n",
        "df = pd.DataFrame(X, columns=feature_names).assign(target=y)\n",
        "assert not df.isna().any().any()"
      ],
      "metadata": {
        "id": "AG9kFRxveR6F"
      },
      "execution_count": null,
      "outputs": []
    },
    {
      "cell_type": "markdown",
      "source": [
        "Wine 資料集無缺失值。"
      ],
      "metadata": {
        "id": "sWhyjVsweUuV"
      }
    },
    {
      "cell_type": "markdown",
      "source": [
        "### 探索性分析"
      ],
      "metadata": {
        "id": "iMtUvzH_eYkd"
      }
    },
    {
      "cell_type": "markdown",
      "source": [
        "透過 seaborn.pairplot 視覺化變數分布與類別區分性。"
      ],
      "metadata": {
        "id": "80WNE_L5eJeK"
      }
    },
    {
      "cell_type": "code",
      "source": [
        "import seaborn as sns\n",
        "import matplotlib.pyplot as plt\n",
        "\n",
        "sns.scatterplot(data=df, x=\"alcohol\", y=\"color_intensity\", hue=\"target\")\n",
        "plt.show()"
      ],
      "metadata": {
        "id": "P-yKBOSYedPG"
      },
      "execution_count": null,
      "outputs": []
    },
    {
      "cell_type": "markdown",
      "source": [
        "部分特徵（如 proline、color_intensity）對類別分離效果良好，部分則重疊明顯。"
      ],
      "metadata": {
        "id": "AHVcRBFReobd"
      }
    },
    {
      "cell_type": "markdown",
      "source": [
        "### 資料分割"
      ],
      "metadata": {
        "id": "WmpIVCTRfD3t"
      }
    },
    {
      "cell_type": "markdown",
      "source": [
        "訓練測試比為 8:2，使用 stratify 保持類別分布一致。"
      ],
      "metadata": {
        "id": "MmoxphRGi3tE"
      }
    },
    {
      "cell_type": "code",
      "source": [
        "from sklearn.model_selection import train_test_split\n",
        "\n",
        "X_train, X_test, y_train, y_test = train_test_split(\n",
        "    X_scaled, y, test_size=0.2, stratify=y, random_state=42\n",
        ")"
      ],
      "metadata": {
        "id": "q8paFcp3fHs_"
      },
      "execution_count": null,
      "outputs": []
    },
    {
      "cell_type": "markdown",
      "source": [
        "### 特徵縮放"
      ],
      "metadata": {
        "id": "GBE6NKnwesSN"
      }
    },
    {
      "cell_type": "markdown",
      "source": [
        "由於 KNN 仰賴距離計算，特徵必須標準化。\n"
      ],
      "metadata": {
        "id": "lQzm9ThYevZF"
      }
    },
    {
      "cell_type": "code",
      "source": [
        "from sklearn.preprocessing import StandardScaler\n",
        "scaler = StandardScaler()\n",
        "X_scaled = scaler.fit_transform(X)"
      ],
      "metadata": {
        "id": "ANLjbcn7e2tP"
      },
      "execution_count": null,
      "outputs": []
    },
    {
      "cell_type": "markdown",
      "source": [
        "## 模型訓練"
      ],
      "metadata": {
        "id": "lGoI1XOFfQhd"
      }
    },
    {
      "cell_type": "markdown",
      "source": [
        "採用 KNN 演算法訓練模型，使用 KNN，k=5，距離為歐氏距離。"
      ],
      "metadata": {
        "id": "5lOkB1JIfTNe"
      }
    },
    {
      "cell_type": "code",
      "source": [
        "from sklearn.neighbors import KNeighborsClassifier\n",
        "from sklearn.pipeline import make_pipeline\n",
        "\n",
        "knn_clf = make_pipeline(\n",
        "    StandardScaler(),\n",
        "    KNeighborsClassifier(n_neighbors=5, weights=\"uniform\", metric=\"euclidean\")\n",
        ")\n",
        "\n",
        "knn_clf.fit(X_train, y_train)"
      ],
      "metadata": {
        "id": "2rbtqpNAfcNW"
      },
      "execution_count": null,
      "outputs": []
    },
    {
      "cell_type": "markdown",
      "source": [
        "## 模型評估"
      ],
      "metadata": {
        "id": "EvdSOhFLfjVP"
      }
    },
    {
      "cell_type": "code",
      "source": [
        "from sklearn.metrics import accuracy_score, classification_report, confusion_matrix\n",
        "\n",
        "y_pred = knn_clf.predict(X_test)\n",
        "acc = accuracy_score(y_test, y_pred)\n",
        "print(f\"Test Accuracy: {acc:.3f}\")\n",
        "\n",
        "print(\"\\nClassification Report:\")\n",
        "print(classification_report(y_test, y_pred, target_names=target_names))\n",
        "\n",
        "print(\"Confusion Matrix:\")\n",
        "print(confusion_matrix(y_test, y_pred))"
      ],
      "metadata": {
        "id": "pdvPr32jfqee"
      },
      "execution_count": null,
      "outputs": []
    },
    {
      "cell_type": "markdown",
      "source": [
        "## 模型調整"
      ],
      "metadata": {
        "id": "B4c2Nvf1f0c1"
      }
    },
    {
      "cell_type": "markdown",
      "source": [
        "### 調參目標"
      ],
      "metadata": {
        "id": "DGU7_eGGe3Di"
      }
    },
    {
      "cell_type": "markdown",
      "source": [
        "透過 GridSearchCV 交叉驗證調整參數"
      ],
      "metadata": {
        "id": "yhwwNEMIkDXU"
      }
    },
    {
      "cell_type": "code",
      "source": [
        "from sklearn.model_selection import GridSearchCV\n",
        "\n",
        "pipe = make_pipeline(StandardScaler(), KNeighborsClassifier())\n",
        "param_grid = {\n",
        "    \"kneighborsclassifier__n_neighbors\": range(3, 16),\n",
        "    \"kneighborsclassifier__weights\": [\"uniform\", \"distance\"],\n",
        "    \"kneighborsclassifier__metric\": [\"euclidean\", \"manhattan\"]\n",
        "}\n",
        "\n",
        "grid = GridSearchCV(pipe, param_grid, cv=10, scoring=\"accuracy\", n_jobs=-1)\n",
        "grid.fit(X_train, y_train)\n",
        "\n",
        "print(\"最佳參數：\", grid.best_params_)\n",
        "print(f\"CV 平均 Accuracy：{grid.best_score_:.3f}\")\n",
        "\n",
        "best_model = grid.best_estimator_"
      ],
      "metadata": {
        "id": "1ARJr_48f7G9"
      },
      "execution_count": null,
      "outputs": []
    },
    {
      "cell_type": "markdown",
      "source": [
        "### 測試集驗證最佳模型"
      ],
      "metadata": {
        "id": "NdbCLeEQfWFs"
      }
    },
    {
      "cell_type": "code",
      "source": [
        "y_pred = best_model.predict(X_test)\n",
        "acc = accuracy_score(y_test, y_pred)\n",
        "print(f\"\\nTest Accuracy (Best Model): {acc:.3f}\")\n",
        "print(\"\\nClassification Report:\")\n",
        "print(classification_report(y_test, y_pred, target_names=target_names))\n",
        "print(\"Confusion Matrix:\")\n",
        "print(confusion_matrix(y_test, y_pred))"
      ],
      "metadata": {
        "id": "ZJ6GH-_4fW5a"
      },
      "execution_count": null,
      "outputs": []
    },
    {
      "cell_type": "markdown",
      "source": [
        "## 模型部署"
      ],
      "metadata": {
        "id": "Wb2EXoPNgH71"
      }
    },
    {
      "cell_type": "markdown",
      "source": [
        "### 儲存模型"
      ],
      "metadata": {
        "id": "wZaQ7GkhodIF"
      }
    },
    {
      "cell_type": "code",
      "source": [
        "import joblib\n",
        "joblib.dump({\n",
        "    \"pipeline\": best_model,\n",
        "    \"target_names\": target_names\n",
        "}, \"wine_knn_pipeline.joblib\")"
      ],
      "metadata": {
        "id": "gskOH7BDoYMG"
      },
      "execution_count": null,
      "outputs": []
    },
    {
      "cell_type": "markdown",
      "source": [
        "### 推論預測"
      ],
      "metadata": {
        "id": "3ob1YJN7ovpH"
      }
    },
    {
      "cell_type": "code",
      "source": [
        "import numpy as np\n",
        "artifacts = joblib.load(\"wine_knn_pipeline.joblib\")\n",
        "pipe, names = artifacts[\"pipeline\"], artifacts[\"target_names\"]\n",
        "\n",
        "sample = [[13.0, 2.1, 2.3, 16.0, 101.0, 2.5, 2.3, 0.3, 1.7, 5.0, 1.0, 3.0, 1000.0]]\n",
        "pred_idx = pipe.predict(sample)[0]\n",
        "print(\"預測類別：\", names[pred_idx])"
      ],
      "metadata": {
        "id": "2lIs65Mioyxt"
      },
      "execution_count": null,
      "outputs": []
    },
    {
      "cell_type": "markdown",
      "source": [
        "## 結論"
      ],
      "metadata": {
        "id": "bayqI_3QpB0e"
      }
    },
    {
      "cell_type": "markdown",
      "source": [
        "本專案成功利用 KNN 演算法對 Wine 資料集進行分類，透過標準化與 GridSearch 調參，在測試集上達到高準確率。由於 Wine 資料為中型規模、具良好特徵分佈，KNN 能有效發揮距離判斷優勢。\n",
        "\n",
        "**優點**\n",
        "- 不須訓練時間，部署快速\n",
        "- 實作簡單、解釋直觀\n",
        "- 效果穩定，適用於結構良好資料集\n",
        "\n",
        "**建議與延伸**\n",
        "- 若資料特徵維度更多，建議加入 PCA 等降維技術\n",
        "- 可與 SVM、Random Forest 等模型比較效能"
      ],
      "metadata": {
        "id": "i_eW-5PRo872"
      }
    }
  ]
}