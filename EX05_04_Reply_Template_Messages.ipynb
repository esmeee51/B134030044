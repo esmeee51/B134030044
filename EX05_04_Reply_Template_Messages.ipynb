{
  "nbformat": 4,
  "nbformat_minor": 0,
  "metadata": {
    "colab": {
      "provenance": [],
      "authorship_tag": "ABX9TyMj86OTL6XD1d28ouAEJyt1",
      "include_colab_link": true
    },
    "kernelspec": {
      "name": "python3",
      "display_name": "Python 3"
    },
    "language_info": {
      "name": "python"
    }
  },
  "cells": [
    {
      "cell_type": "markdown",
      "metadata": {
        "id": "view-in-github",
        "colab_type": "text"
      },
      "source": [
        "<a href=\"https://colab.research.google.com/github/esmeee51/B134030044/blob/main/EX05_04_Reply_Template_Messages.ipynb\" target=\"_parent\"><img src=\"https://colab.research.google.com/assets/colab-badge.svg\" alt=\"Open In Colab\"/></a>"
      ]
    },
    {
      "cell_type": "code",
      "execution_count": 1,
      "metadata": {
        "id": "q62NEwbJXnw2",
        "colab": {
          "base_uri": "https://localhost:8080/"
        },
        "outputId": "1a9c84f0-7cf7-42a7-c037-ffbb3f7dd9ba"
      },
      "outputs": [
        {
          "output_type": "stream",
          "name": "stdout",
          "text": [
            "\u001b[2K   \u001b[90m━━━━━━━━━━━━━━━━━━━━━━━━━━━━━━━━━━━━━━━━\u001b[0m \u001b[32m776.1/776.1 kB\u001b[0m \u001b[31m11.7 MB/s\u001b[0m eta \u001b[36m0:00:00\u001b[0m\n",
            "\u001b[2K   \u001b[90m━━━━━━━━━━━━━━━━━━━━━━━━━━━━━━━━━━━━━━━━\u001b[0m \u001b[32m165.6/165.6 kB\u001b[0m \u001b[31m10.9 MB/s\u001b[0m eta \u001b[36m0:00:00\u001b[0m\n",
            "\u001b[?25h"
          ]
        }
      ],
      "source": [
        "!pip install -q pyngrok flask_ngrok # for colab\n",
        "!pip install -q flask line-bot-sdk"
      ]
    },
    {
      "cell_type": "code",
      "source": [
        "# for colab\n",
        "from google.colab import userdata\n",
        "from pyngrok import ngrok\n",
        "from flask_ngrok import run_with_ngrok\n",
        "def ngrok_start():\n",
        "    ngrok.set_auth_token(userdata.get('Ngrok_authtoken'))\n",
        "    ngrok.connect(5000)\n",
        "    run_with_ngrok(app)\n",
        "\n",
        "from flask import Flask, request, abort\n",
        "\n",
        "from linebot.v3 import WebhookHandler\n",
        "from linebot.v3.exceptions import InvalidSignatureError\n",
        "from linebot.v3.webhooks import MessageEvent, TextMessageContent\n",
        "from linebot.v3.messaging import (\n",
        "    Configuration, ApiClient, MessagingApi,\n",
        "    ReplyMessageRequest,\n",
        "    TextMessage,\n",
        "    TemplateMessage, ConfirmTemplate, MessageAction\n",
        ")\n",
        "\n",
        "app = Flask(__name__)\n",
        "\n",
        "configuration = Configuration(access_token=userdata.get('LINE_CHANNEL_ACCESS_TOKEN'))\n",
        "handler = WebhookHandler(userdata.get('LINE_CHANNEL_SECRET'))\n",
        "\n",
        "@app.route(\"/callback\", methods=['POST'])\n",
        "def callback():\n",
        "    signature = request.headers['X-Line-Signature']\n",
        "    body = request.get_data(as_text=True)\n",
        "    try:\n",
        "        handler.handle(body, signature)\n",
        "    except InvalidSignatureError:\n",
        "        abort(400)\n",
        "    return 'OK'\n",
        "\n",
        "\n",
        "@handler.add(MessageEvent, message=TextMessageContent)\n",
        "def handle_message(event):\n",
        "    with ApiClient(configuration) as api_client:\n",
        "        line_bot_api = MessagingApi(api_client)\n",
        "\n",
        "        action = event.message.text\n",
        "        if action == 'confirm':\n",
        "          reply = TemplateMessage(\n",
        "          alt_text=\"這是確認視窗\",\n",
        "          template=ConfirmTemplate(\n",
        "             text=\"你喜歡吳玟儀嗎？\",#the question\n",
        "             actions=[\n",
        "               MessageAction(label=\"是\", text=\"我超喜歡\"),#one of the botton\n",
        "               MessageAction(label=\"否\", text=\"其實有億點喜歡但我不敢說\")\n",
        "          ]\n",
        "        )\n",
        "      )\n",
        "\n",
        "        elif action == 'carousel':\n",
        "          carousel_template = CarouselTemplate(\n",
        "              columns=[\n",
        "                  CarouselColumn(\n",
        "                      thumbnail_image_url=('https://encrypted-tbn3.gstatic.com/images?q=tbn:ANd9GcSHUKJVY_6ELobIKty_QL81r4ZRKjFTQKlFoq_G_rEkajxdUF92X7KuF-e8uBtQzU9PTjC4'),\n",
        "                      title='航海王劇場版：紅髮歌姬',\n",
        "                      text='「新時代」的來臨!《航海王劇場版：紅髮歌姬》',\n",
        "                      actions=[\n",
        "                         URIAction(label='維基百科', uri='https://zh.wikipedia.org/wiki/ONE_PIECE_FILM_RED'),\n",
        "                         MessageAction(label='投票', text='UTA!')\n",
        "                      ]\n",
        "                  ),\n",
        "                  CarouselColumn(\n",
        "                      thumbnail_image_url=('https://upload.wikimedia.org/wikipedia/zh/e/e6/%E9%AC%BC%E6%BB%85%E4%B9%8B%E5%88%83%E5%8A%87%E5%A0%B4%E7%89%88_%E7%84%A1%E9%99%90%E5%88%97%E8%BB%8A%E7%AF%87.jpeg'),\n",
        "                      title='劇場版「鬼滅の刃」無限列車編',\n",
        "                      text='《鬼滅之刃劇場版 無限列車篇》：我怎麼捨得待在無限的夢中',\n",
        "                      actions=[\n",
        "                          URIAction(label='維基百科', uri='https://zh.wikipedia.org/zh-tw/%E9%AC%BC%E6%BB%85%E4%B9%8B%E5%88%83%E5%8A%87%E5%A0%B4%E7%89%88_%E7%84%A1%E9%99%90%E5%88%97%E8%BB%8A%E7%AF%87'),\n",
        "                          MessageAction(label='投票', text='大哥沒有輸')\n",
        "                      ]\n",
        "                  )\n",
        "                ]\n",
        "            )\n",
        "          reply = TemplateMessage(\n",
        "              alt_text='這是輪播視窗',\n",
        "              template=carousel_template\n",
        "          )\n",
        "        else:\n",
        "         reply = TextMessage(text='thanks!')\n",
        "\n",
        "        line_bot_api.reply_message(\n",
        "            ReplyMessageRequest(\n",
        "                reply_token=event.reply_token,\n",
        "                messages=[\n",
        "                    reply\n",
        "                ]\n",
        "            )\n",
        "        )\n",
        "\n",
        "\n",
        "\n",
        "ngrok_start() # for colab\n",
        "if __name__ == \"__main__\":\n",
        "    app.run()"
      ],
      "metadata": {
        "colab": {
          "base_uri": "https://localhost:8080/"
        },
        "id": "saazjXIAXuZn",
        "outputId": "ef394379-3a0e-454c-e70c-0b9780606e8a"
      },
      "execution_count": null,
      "outputs": [
        {
          "metadata": {
            "tags": null
          },
          "name": "stdout",
          "output_type": "stream",
          "text": [
            " * Serving Flask app '__main__'\n",
            " * Debug mode: off\n"
          ]
        },
        {
          "metadata": {
            "tags": null
          },
          "name": "stderr",
          "output_type": "stream",
          "text": [
            "INFO:werkzeug:\u001b[31m\u001b[1mWARNING: This is a development server. Do not use it in a production deployment. Use a production WSGI server instead.\u001b[0m\n",
            " * Running on http://127.0.0.1:5000\n",
            "INFO:werkzeug:\u001b[33mPress CTRL+C to quit\u001b[0m\n"
          ]
        },
        {
          "metadata": {
            "tags": null
          },
          "name": "stdout",
          "output_type": "stream",
          "text": [
            " * Running on http://e6ad-35-238-77-131.ngrok-free.app\n",
            " * Traffic stats available on http://127.0.0.1:4040\n"
          ]
        },
        {
          "output_type": "stream",
          "name": "stderr",
          "text": [
            "INFO:werkzeug:127.0.0.1 - - [20/May/2025 06:20:59] \"\u001b[33mGET / HTTP/1.1\u001b[0m\" 404 -\n",
            "INFO:werkzeug:127.0.0.1 - - [20/May/2025 06:21:00] \"\u001b[33mGET /favicon.ico HTTP/1.1\u001b[0m\" 404 -\n",
            "INFO:werkzeug:127.0.0.1 - - [20/May/2025 06:32:05] \"POST /callback HTTP/1.1\" 200 -\n"
          ]
        }
      ]
    }
  ]
}