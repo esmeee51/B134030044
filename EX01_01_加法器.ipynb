{
  "nbformat": 4,
  "nbformat_minor": 0,
  "metadata": {
    "colab": {
      "provenance": [],
      "authorship_tag": "ABX9TyOBqEVnc3ymEc+v2TIE/KLq",
      "include_colab_link": true
    },
    "kernelspec": {
      "name": "python3",
      "display_name": "Python 3"
    },
    "language_info": {
      "name": "python"
    }
  },
  "cells": [
    {
      "cell_type": "markdown",
      "metadata": {
        "id": "view-in-github",
        "colab_type": "text"
      },
      "source": [
        "<a href=\"https://colab.research.google.com/github/esmeee51/B134030044/blob/main/EX01_01_%E5%8A%A0%E6%B3%95%E5%99%A8.ipynb\" target=\"_parent\"><img src=\"https://colab.research.google.com/assets/colab-badge.svg\" alt=\"Open In Colab\"/></a>"
      ]
    },
    {
      "cell_type": "code",
      "execution_count": 2,
      "metadata": {
        "colab": {
          "base_uri": "https://localhost:8080/"
        },
        "id": "TJvTNtGW2fwW",
        "outputId": "e952649e-7d3e-491d-b9d3-effa8236a66d"
      },
      "outputs": [
        {
          "output_type": "stream",
          "name": "stdout",
          "text": [
            "1\n",
            "2\n",
            "3\n"
          ]
        }
      ],
      "source": [
        "#取得整數一\n",
        "n1=int(input())\n",
        "#取得整數二\n",
        "n2=int(input())\n",
        "#將整數一及整數二加總\n",
        "tt=n1+n2\n",
        "#取得結果\n",
        "print(tt)"
      ]
    }
  ]
}