{
  "nbformat": 4,
  "nbformat_minor": 0,
  "metadata": {
    "colab": {
      "provenance": [],
      "authorship_tag": "ABX9TyPNW6N+SckRoNWT848osOyZ",
      "include_colab_link": true
    },
    "kernelspec": {
      "name": "python3",
      "display_name": "Python 3"
    },
    "language_info": {
      "name": "python"
    }
  },
  "cells": [
    {
      "cell_type": "markdown",
      "metadata": {
        "id": "view-in-github",
        "colab_type": "text"
      },
      "source": [
        "<a href=\"https://colab.research.google.com/github/esmeee51/B134030044/blob/main/EX02_01_My_Chatbot.ipynb\" target=\"_parent\"><img src=\"https://colab.research.google.com/assets/colab-badge.svg\" alt=\"Open In Colab\"/></a>"
      ]
    },
    {
      "cell_type": "code",
      "execution_count": 2,
      "metadata": {
        "id": "NU4JIzrkamJ-"
      },
      "outputs": [],
      "source": [
        "from google.colab import userdata\n",
        "import google.generativeai as genai\n",
        "\n",
        "genai.configure(api_key=userdata.get(\"GENAI_KEY\"))"
      ]
    },
    {
      "cell_type": "code",
      "source": [
        "generation_config = {\n",
        "    \"temperature\": 1,\n",
        "    \"max_output_tokens\":1280\n",
        "}\n",
        "model = genai.GenerativeModel(\n",
        "    model_name=\"gemini-2.0-flash\",\n",
        "    generation_config=generation_config\n",
        ")"
      ],
      "metadata": {
        "id": "3z1VBwJdbv5H"
      },
      "execution_count": 5,
      "outputs": []
    },
    {
      "cell_type": "code",
      "source": [
        "from IPython.display import Markdown,display\n",
        "\n",
        "chat = model.start_chat(history=[])\n",
        "\n",
        "while True:\n",
        "  message = input(\"You:\")\n",
        "  if message == \"bye!\":\n",
        "    break\n",
        "  response = chat.send_message(message)\n",
        "  print(\"Bot:\")\n",
        "  display(Markdown(response.text))"
      ],
      "metadata": {
        "colab": {
          "base_uri": "https://localhost:8080/",
          "height": 758
        },
        "id": "8XUz7pTTcs2v",
        "outputId": "bd528e15-f120-4672-c147-07ea914aefef"
      },
      "execution_count": null,
      "outputs": [
        {
          "output_type": "stream",
          "name": "stdout",
          "text": [
            "You:hi\n",
            "Bot:\n"
          ]
        },
        {
          "output_type": "display_data",
          "data": {
            "text/plain": [
              "<IPython.core.display.Markdown object>"
            ],
            "text/markdown": "Hi there! How can I help you today?\n"
          },
          "metadata": {}
        },
        {
          "output_type": "stream",
          "name": "stdout",
          "text": [
            "You:what's the weather this month?\n",
            "Bot:\n"
          ]
        },
        {
          "output_type": "display_data",
          "data": {
            "text/plain": [
              "<IPython.core.display.Markdown object>"
            ],
            "text/markdown": "To give you the most accurate weather forecast, I need to know:\n\n*   **What is the current date?** (Even just the month will help narrow it down)\n*   **Where are you located?** (City, State/Province, or Country)\n\nOnce I have that information, I can provide you with an overview of the expected weather for the rest of the month!\n"
          },
          "metadata": {}
        },
        {
          "output_type": "stream",
          "name": "stdout",
          "text": [
            "You:it's March now, and I live in Kaohsiung!\n",
            "Bot:\n"
          ]
        },
        {
          "output_type": "display_data",
          "data": {
            "text/plain": [
              "<IPython.core.display.Markdown object>"
            ],
            "text/markdown": "Okay, great!  Here's a general idea of what you can expect for the rest of March in Kaohsiung, Taiwan:\n\n*   **Temperature:** Expect average temperatures in the mid-20s Celsius (around the mid-70s Fahrenheit). You'll likely see a range from the low 20s (lower 70s F) to the high 20s (low 80s F) during the day. Evenings will be a bit cooler.\n\n*   **Rainfall:** March is generally considered a drier month than later in the spring and summer in Kaohsiung. However, you can still expect occasional showers. It won't be monsoon season by any means.\n\n*   **Humidity:** The humidity can start to increase in March as you transition towards the wetter season. Expect it to feel quite humid at times.\n\n*   **Overall:** Generally pleasant weather, warm but not unbearably hot, with the occasional shower. Good weather for outdoor activities!\n\n**To get a *really* accurate forecast, I recommend checking a reliable weather website or app like:**\n\n*   **AccuWeather:** (Just search for \"AccuWeather Kaohsiung\")\n*   **The Weather Channel:** (Search for \"Weather Channel Kaohsiung\")\n*   **Google Weather:** (Just Google \"Weather in Kaohsiung\")\n\nThese sites will give you a more detailed, up-to-date forecast for the coming days and weeks, including specific temperature predictions, the chance of rain, and wind conditions.\n\nEnjoy the weather in Kaohsiung!\n"
          },
          "metadata": {}
        },
        {
          "output_type": "stream",
          "name": "stdout",
          "text": [
            "You:I see, thanks.\n",
            "Bot:\n"
          ]
        },
        {
          "output_type": "display_data",
          "data": {
            "text/plain": [
              "<IPython.core.display.Markdown object>"
            ],
            "text/markdown": "You're welcome! Is there anything else I can help you with today?\n"
          },
          "metadata": {}
        },
        {
          "output_type": "stream",
          "name": "stdout",
          "text": [
            "You:no\n",
            "Bot:\n"
          ]
        },
        {
          "output_type": "display_data",
          "data": {
            "text/plain": [
              "<IPython.core.display.Markdown object>"
            ],
            "text/markdown": "Okay! Have a great day!\n"
          },
          "metadata": {}
        },
        {
          "output_type": "stream",
          "name": "stdout",
          "text": [
            "You:same here. bye\n",
            "Bot:\n"
          ]
        },
        {
          "output_type": "display_data",
          "data": {
            "text/plain": [
              "<IPython.core.display.Markdown object>"
            ],
            "text/markdown": "Goodbye!\n"
          },
          "metadata": {}
        }
      ]
    }
  ]
}