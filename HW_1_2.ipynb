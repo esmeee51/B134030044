{
  "nbformat": 4,
  "nbformat_minor": 0,
  "metadata": {
    "colab": {
      "provenance": [],
      "authorship_tag": "ABX9TyNjeJI4VQKh8YJeFFeDeOw6",
      "include_colab_link": true
    },
    "kernelspec": {
      "name": "python3",
      "display_name": "Python 3"
    },
    "language_info": {
      "name": "python"
    }
  },
  "cells": [
    {
      "cell_type": "markdown",
      "metadata": {
        "id": "view-in-github",
        "colab_type": "text"
      },
      "source": [
        "<a href=\"https://colab.research.google.com/github/esmeee51/B134030044/blob/main/HW_1_2.ipynb\" target=\"_parent\"><img src=\"https://colab.research.google.com/assets/colab-badge.svg\" alt=\"Open In Colab\"/></a>"
      ]
    },
    {
      "cell_type": "markdown",
      "source": [
        "# HW02 Web Crawler"
      ],
      "metadata": {
        "id": "PoHVBU5zUBrY"
      }
    },
    {
      "cell_type": "markdown",
      "source": [
        "\n",
        "\n",
        "> B13403044 吳玟儀\n",
        "\n"
      ],
      "metadata": {
        "id": "zwdm6GFLqp52"
      }
    },
    {
      "cell_type": "markdown",
      "source": [
        "## 題目"
      ],
      "metadata": {
        "id": "6yU0MSJqUOPX"
      }
    },
    {
      "cell_type": "markdown",
      "source": [
        "本報告旨在透過網路爬蟲技術，收集中央氣象局網站上各地區未來七天的天氣預報資料，為旅遊及生活安排提供參考。"
      ],
      "metadata": {
        "id": "LKF4BNC0UDKw"
      }
    },
    {
      "cell_type": "markdown",
      "source": [
        "## 摘要"
      ],
      "metadata": {
        "id": "Gb_qfYoJUpBS"
      }
    },
    {
      "cell_type": "markdown",
      "source": [
        "本報告使用 Python 的 requests 與 BeautifulSoup 套件，從中央氣象局網站擷取台灣各地區的七天天氣預報，並使用 Gradio 製作互動式下拉選單介面，讓使用者能快速查詢目標地區的天氣資訊。藉由本次練習，加深了對資料擷取與前端互動技術的應用理解。"
      ],
      "metadata": {
        "id": "6neS2oHuUYgw"
      }
    },
    {
      "cell_type": "markdown",
      "source": [
        "## 引言"
      ],
      "metadata": {
        "id": "edik9K1uU7Bx"
      }
    },
    {
      "cell_type": "markdown",
      "source": [
        "隨著天氣變化對生活及旅遊計畫的影響日益顯著，獲得即時且完整的天氣預報資訊變得至關重要。中央氣象局作為台灣的官方氣象預報機構，提供多樣且精確的天氣資訊。透過網路爬蟲技術，能快速取得並整合天氣資料，讓使用者更有效率地查詢與規劃活動。"
      ],
      "metadata": {
        "id": "5gtSLI8CU5Vw"
      }
    },
    {
      "cell_type": "markdown",
      "source": [
        "## 方法"
      ],
      "metadata": {
        "id": "_nIsBFVGVFd-"
      }
    },
    {
      "cell_type": "markdown",
      "source": [
        "1.資料來源：中央氣象局「未來一週天氣預報」頁面。\n",
        "\n",
        "2.技術：\n",
        "*   Python 的 requests 套件取得網頁原始碼\n",
        "*   BeautifulSoup 解析 HTML 並擷取目標表格\n",
        "*   將擷取到的資料整理成字典並以 CSV 檔備份\n",
        "*   使用 gradio 建立互動式網頁下拉選單，顯示各地區七天天氣預報\n",
        "\n",
        "3.流程：\n",
        "*   下載網頁並解析表格\n",
        "*   擷取各地區及其對應的七天預報資料\n",
        "*   將資料以互動方式呈現給使用者\n",
        "\n"
      ],
      "metadata": {
        "id": "tnRI8WGkVKDQ"
      }
    },
    {
      "cell_type": "markdown",
      "source": [
        "## 程式碼"
      ],
      "metadata": {
        "id": "qlp4vU1EqVal"
      }
    },
    {
      "cell_type": "code",
      "source": [],
      "metadata": {
        "id": "P6ChlIitqayU"
      },
      "execution_count": null,
      "outputs": []
    },
    {
      "cell_type": "code",
      "source": [
        "# 安裝 Gradio\n",
        "!pip install gradio\n",
        "\n",
        "# 匯入模組\n",
        "import requests\n",
        "import gradio as gr\n",
        "from google.colab import output\n",
        "import json\n",
        "\n",
        "# 讓 Gradio 在 Colab 中能顯示\n",
        "output.enable_custom_widget_manager()\n",
        "\n",
        "# Step 1. 抓取資料\n",
        "url = \"https://opendata.cwa.gov.tw/fileapi/v1/opendataapi/O-A0001-001?Authorization=CWA-5DF598F6-49ED-4663-9282-9A4D1857A7E0&downloadType=WEB&format=JSON\"\n",
        "response = requests.get(url)\n",
        "data = response.json()\n",
        "\n",
        "# 印出 JSON 結構確認\n",
        "print(\"--- JSON 資料結構（前一筆）---\")\n",
        "print(json.dumps(data[\"cwaopendata\"][\"dataset\"][\"Station\"][0], indent=4, ensure_ascii=False))\n",
        "print(\"--------------------------\")\n",
        "\n",
        "# Step 2. 解析資料（正確的路徑）\n",
        "try:\n",
        "    stations = data[\"cwaopendata\"][\"dataset\"][\"Station\"]\n",
        "except KeyError:\n",
        "    print(\"❌ 找不到 'Station' 鍵值，請檢查 JSON 結構\")\n",
        "    stations = []\n",
        "\n",
        "# Step 3. 整理資料\n",
        "station_data = {}\n",
        "if stations:\n",
        "    for s in stations:\n",
        "        name = s[\"StationName\"]\n",
        "        obs_time = s[\"ObsTime\"][\"DateTime\"]\n",
        "        weather_info = s[\"WeatherElement\"]\n",
        "\n",
        "        # 選擇想要顯示的欄位\n",
        "        station_data[name] = {\n",
        "            \"觀測時間\": obs_time,\n",
        "            \"天氣\": weather_info.get(\"Weather\", \"N/A\"),\n",
        "            \"氣溫\": weather_info.get(\"AirTemperature\", \"N/A\"),\n",
        "            \"相對濕度\": weather_info.get(\"RelativeHumidity\", \"N/A\"),\n",
        "            \"氣壓\": weather_info.get(\"AirPressure\", \"N/A\"),\n",
        "            \"風速\": weather_info.get(\"WindSpeed\", \"N/A\"),\n",
        "            \"風向\": weather_info.get(\"WindDirection\", \"N/A\"),\n",
        "            \"降雨量\": weather_info.get(\"Now\", {}).get(\"Precipitation\", \"N/A\")\n",
        "        }\n",
        "\n",
        "    # Step 4. 建立 Gradio 介面\n",
        "    def show_station_info(station_name):\n",
        "        info = f\"🌍 測站：{station_name}\\n\\n\"\n",
        "        for k, v in station_data[station_name].items():\n",
        "            info += f\"{k}: {v}\\n\"\n",
        "        return info\n",
        "\n",
        "    gr.Interface(\n",
        "        fn=show_station_info,\n",
        "        inputs=gr.Dropdown(choices=list(station_data.keys()), label=\"選擇測站\"),\n",
        "        outputs=\"textbox\",\n",
        "        title=\"中央氣象局 測站即時觀測資料\",\n",
        "        description=\"選擇一個測站，即可顯示即時觀測資訊\"\n",
        "    ).launch(inline=True)\n",
        "\n",
        "else:\n",
        "    print(\"⚠️ 無法載入測站資料，Gradio 介面未啟動。\")\n"
      ],
      "metadata": {
        "colab": {
          "base_uri": "https://localhost:8080/",
          "height": 1000
        },
        "id": "5DGvYVvins1M",
        "outputId": "1855fec5-0a91-4590-93f3-07c3878fdc6c"
      },
      "execution_count": null,
      "outputs": [
        {
          "output_type": "stream",
          "name": "stdout",
          "text": [
            "Requirement already satisfied: gradio in /usr/local/lib/python3.11/dist-packages (5.31.0)\n",
            "Requirement already satisfied: aiofiles<25.0,>=22.0 in /usr/local/lib/python3.11/dist-packages (from gradio) (24.1.0)\n",
            "Requirement already satisfied: anyio<5.0,>=3.0 in /usr/local/lib/python3.11/dist-packages (from gradio) (4.9.0)\n",
            "Requirement already satisfied: fastapi<1.0,>=0.115.2 in /usr/local/lib/python3.11/dist-packages (from gradio) (0.115.12)\n",
            "Requirement already satisfied: ffmpy in /usr/local/lib/python3.11/dist-packages (from gradio) (0.5.0)\n",
            "Requirement already satisfied: gradio-client==1.10.1 in /usr/local/lib/python3.11/dist-packages (from gradio) (1.10.1)\n",
            "Requirement already satisfied: groovy~=0.1 in /usr/local/lib/python3.11/dist-packages (from gradio) (0.1.2)\n",
            "Requirement already satisfied: httpx>=0.24.1 in /usr/local/lib/python3.11/dist-packages (from gradio) (0.28.1)\n",
            "Requirement already satisfied: huggingface-hub>=0.28.1 in /usr/local/lib/python3.11/dist-packages (from gradio) (0.31.2)\n",
            "Requirement already satisfied: jinja2<4.0 in /usr/local/lib/python3.11/dist-packages (from gradio) (3.1.6)\n",
            "Requirement already satisfied: markupsafe<4.0,>=2.0 in /usr/local/lib/python3.11/dist-packages (from gradio) (3.0.2)\n",
            "Requirement already satisfied: numpy<3.0,>=1.0 in /usr/local/lib/python3.11/dist-packages (from gradio) (2.0.2)\n",
            "Requirement already satisfied: orjson~=3.0 in /usr/local/lib/python3.11/dist-packages (from gradio) (3.10.18)\n",
            "Requirement already satisfied: packaging in /usr/local/lib/python3.11/dist-packages (from gradio) (24.2)\n",
            "Requirement already satisfied: pandas<3.0,>=1.0 in /usr/local/lib/python3.11/dist-packages (from gradio) (2.2.2)\n",
            "Requirement already satisfied: pillow<12.0,>=8.0 in /usr/local/lib/python3.11/dist-packages (from gradio) (11.2.1)\n",
            "Requirement already satisfied: pydantic<2.12,>=2.0 in /usr/local/lib/python3.11/dist-packages (from gradio) (2.11.4)\n",
            "Requirement already satisfied: pydub in /usr/local/lib/python3.11/dist-packages (from gradio) (0.25.1)\n",
            "Requirement already satisfied: python-multipart>=0.0.18 in /usr/local/lib/python3.11/dist-packages (from gradio) (0.0.20)\n",
            "Requirement already satisfied: pyyaml<7.0,>=5.0 in /usr/local/lib/python3.11/dist-packages (from gradio) (6.0.2)\n",
            "Requirement already satisfied: ruff>=0.9.3 in /usr/local/lib/python3.11/dist-packages (from gradio) (0.11.11)\n",
            "Requirement already satisfied: safehttpx<0.2.0,>=0.1.6 in /usr/local/lib/python3.11/dist-packages (from gradio) (0.1.6)\n",
            "Requirement already satisfied: semantic-version~=2.0 in /usr/local/lib/python3.11/dist-packages (from gradio) (2.10.0)\n",
            "Requirement already satisfied: starlette<1.0,>=0.40.0 in /usr/local/lib/python3.11/dist-packages (from gradio) (0.46.2)\n",
            "Requirement already satisfied: tomlkit<0.14.0,>=0.12.0 in /usr/local/lib/python3.11/dist-packages (from gradio) (0.13.2)\n",
            "Requirement already satisfied: typer<1.0,>=0.12 in /usr/local/lib/python3.11/dist-packages (from gradio) (0.15.3)\n",
            "Requirement already satisfied: typing-extensions~=4.0 in /usr/local/lib/python3.11/dist-packages (from gradio) (4.13.2)\n",
            "Requirement already satisfied: uvicorn>=0.14.0 in /usr/local/lib/python3.11/dist-packages (from gradio) (0.34.2)\n",
            "Requirement already satisfied: fsspec in /usr/local/lib/python3.11/dist-packages (from gradio-client==1.10.1->gradio) (2025.3.2)\n",
            "Requirement already satisfied: websockets<16.0,>=10.0 in /usr/local/lib/python3.11/dist-packages (from gradio-client==1.10.1->gradio) (15.0.1)\n",
            "Requirement already satisfied: idna>=2.8 in /usr/local/lib/python3.11/dist-packages (from anyio<5.0,>=3.0->gradio) (3.10)\n",
            "Requirement already satisfied: sniffio>=1.1 in /usr/local/lib/python3.11/dist-packages (from anyio<5.0,>=3.0->gradio) (1.3.1)\n",
            "Requirement already satisfied: certifi in /usr/local/lib/python3.11/dist-packages (from httpx>=0.24.1->gradio) (2025.4.26)\n",
            "Requirement already satisfied: httpcore==1.* in /usr/local/lib/python3.11/dist-packages (from httpx>=0.24.1->gradio) (1.0.9)\n",
            "Requirement already satisfied: h11>=0.16 in /usr/local/lib/python3.11/dist-packages (from httpcore==1.*->httpx>=0.24.1->gradio) (0.16.0)\n",
            "Requirement already satisfied: filelock in /usr/local/lib/python3.11/dist-packages (from huggingface-hub>=0.28.1->gradio) (3.18.0)\n",
            "Requirement already satisfied: requests in /usr/local/lib/python3.11/dist-packages (from huggingface-hub>=0.28.1->gradio) (2.32.3)\n",
            "Requirement already satisfied: tqdm>=4.42.1 in /usr/local/lib/python3.11/dist-packages (from huggingface-hub>=0.28.1->gradio) (4.67.1)\n",
            "Requirement already satisfied: python-dateutil>=2.8.2 in /usr/local/lib/python3.11/dist-packages (from pandas<3.0,>=1.0->gradio) (2.9.0.post0)\n",
            "Requirement already satisfied: pytz>=2020.1 in /usr/local/lib/python3.11/dist-packages (from pandas<3.0,>=1.0->gradio) (2025.2)\n",
            "Requirement already satisfied: tzdata>=2022.7 in /usr/local/lib/python3.11/dist-packages (from pandas<3.0,>=1.0->gradio) (2025.2)\n",
            "Requirement already satisfied: annotated-types>=0.6.0 in /usr/local/lib/python3.11/dist-packages (from pydantic<2.12,>=2.0->gradio) (0.7.0)\n",
            "Requirement already satisfied: pydantic-core==2.33.2 in /usr/local/lib/python3.11/dist-packages (from pydantic<2.12,>=2.0->gradio) (2.33.2)\n",
            "Requirement already satisfied: typing-inspection>=0.4.0 in /usr/local/lib/python3.11/dist-packages (from pydantic<2.12,>=2.0->gradio) (0.4.0)\n",
            "Requirement already satisfied: click>=8.0.0 in /usr/local/lib/python3.11/dist-packages (from typer<1.0,>=0.12->gradio) (8.2.0)\n",
            "Requirement already satisfied: shellingham>=1.3.0 in /usr/local/lib/python3.11/dist-packages (from typer<1.0,>=0.12->gradio) (1.5.4)\n",
            "Requirement already satisfied: rich>=10.11.0 in /usr/local/lib/python3.11/dist-packages (from typer<1.0,>=0.12->gradio) (13.9.4)\n",
            "Requirement already satisfied: six>=1.5 in /usr/local/lib/python3.11/dist-packages (from python-dateutil>=2.8.2->pandas<3.0,>=1.0->gradio) (1.17.0)\n",
            "Requirement already satisfied: markdown-it-py>=2.2.0 in /usr/local/lib/python3.11/dist-packages (from rich>=10.11.0->typer<1.0,>=0.12->gradio) (3.0.0)\n",
            "Requirement already satisfied: pygments<3.0.0,>=2.13.0 in /usr/local/lib/python3.11/dist-packages (from rich>=10.11.0->typer<1.0,>=0.12->gradio) (2.19.1)\n",
            "Requirement already satisfied: charset-normalizer<4,>=2 in /usr/local/lib/python3.11/dist-packages (from requests->huggingface-hub>=0.28.1->gradio) (3.4.2)\n",
            "Requirement already satisfied: urllib3<3,>=1.21.1 in /usr/local/lib/python3.11/dist-packages (from requests->huggingface-hub>=0.28.1->gradio) (2.4.0)\n",
            "Requirement already satisfied: mdurl~=0.1 in /usr/local/lib/python3.11/dist-packages (from markdown-it-py>=2.2.0->rich>=10.11.0->typer<1.0,>=0.12->gradio) (0.1.2)\n",
            "--- JSON 資料結構（前一筆）---\n",
            "{\n",
            "    \"StationName\": \"硬漢嶺\",\n",
            "    \"StationId\": \"C0AK30\",\n",
            "    \"ObsTime\": {\n",
            "        \"DateTime\": \"2025-05-27T01:00:00+08:00\"\n",
            "    },\n",
            "    \"GeoInfo\": {\n",
            "        \"Coordinates\": [\n",
            "            {\n",
            "                \"CoordinateName\": \"TWD67\",\n",
            "                \"CoordinateFormat\": \"decimal degrees\",\n",
            "                \"StationLatitude\": \"25.137872\",\n",
            "                \"StationLongitude\": \"121.418140\"\n",
            "            },\n",
            "            {\n",
            "                \"CoordinateName\": \"WGS84\",\n",
            "                \"CoordinateFormat\": \"decimal degrees\",\n",
            "                \"StationLatitude\": \"25.136097\",\n",
            "                \"StationLongitude\": \"121.426372\"\n",
            "            }\n",
            "        ],\n",
            "        \"StationAltitude\": \"607.0\",\n",
            "        \"CountyName\": \"新北市\",\n",
            "        \"TownName\": \"八里區\",\n",
            "        \"CountyCode\": \"65000\",\n",
            "        \"TownCode\": \"65000230\"\n",
            "    },\n",
            "    \"WeatherElement\": {\n",
            "        \"Weather\": \"陰\",\n",
            "        \"Now\": {\n",
            "            \"Precipitation\": \"0.0\"\n",
            "        },\n",
            "        \"WindDirection\": \"33.0\",\n",
            "        \"WindSpeed\": \"1.2\",\n",
            "        \"AirTemperature\": \"17.1\",\n",
            "        \"RelativeHumidity\": \"96\",\n",
            "        \"AirPressure\": \"946.3\",\n",
            "        \"GustInfo\": {\n",
            "            \"PeakGustSpeed\": \"8.2\",\n",
            "            \"Occurred_at\": {\n",
            "                \"WindDirection\": \"183.0\",\n",
            "                \"DateTime\": \"2025-05-27T00:05:00+08:00\"\n",
            "            }\n",
            "        },\n",
            "        \"DailyExtreme\": {\n",
            "            \"DailyHigh\": {\n",
            "                \"TemperatureInfo\": {\n",
            "                    \"AirTemperature\": \"17.1\",\n",
            "                    \"Occurred_at\": {\n",
            "                        \"DateTime\": \"2025-05-27T01:00:00+08:00\"\n",
            "                    }\n",
            "                }\n",
            "            },\n",
            "            \"DailyLow\": {\n",
            "                \"TemperatureInfo\": {\n",
            "                    \"AirTemperature\": \"16.8\",\n",
            "                    \"Occurred_at\": {\n",
            "                        \"DateTime\": \"2025-05-27T00:10:00+08:00\"\n",
            "                    }\n",
            "                }\n",
            "            }\n",
            "        }\n",
            "    }\n",
            "}\n",
            "--------------------------\n",
            "It looks like you are running Gradio on a hosted a Jupyter notebook. For the Gradio app to work, sharing must be enabled. Automatically setting `share=True` (you can turn this off by setting `share=False` in `launch()` explicitly).\n",
            "\n",
            "Colab notebook detected. To show errors in colab notebook, set debug=True in launch()\n",
            "* Running on public URL: https://8b885108e8169abcde.gradio.live\n",
            "\n",
            "This share link expires in 1 week. For free permanent hosting and GPU upgrades, run `gradio deploy` from the terminal in the working directory to deploy to Hugging Face Spaces (https://huggingface.co/spaces)\n"
          ]
        },
        {
          "output_type": "display_data",
          "data": {
            "text/plain": [
              "<IPython.core.display.HTML object>"
            ],
            "text/html": [
              "<div><iframe src=\"https://8b885108e8169abcde.gradio.live\" width=\"100%\" height=\"500\" allow=\"autoplay; camera; microphone; clipboard-read; clipboard-write;\" frameborder=\"0\" allowfullscreen></iframe></div>"
            ]
          },
          "metadata": {}
        }
      ]
    },
    {
      "cell_type": "markdown",
      "source": [
        "## 結果"
      ],
      "metadata": {
        "id": "2H-pGRDEVKdY"
      }
    },
    {
      "cell_type": "markdown",
      "source": [
        "成功從中央氣象局擷取了各地區的七天預報，資料包含地區名稱、每日天氣描述。透過 Gradio 下拉選單介面，使用者可以即時選擇地區並取得最新的七天天氣資訊。"
      ],
      "metadata": {
        "id": "Ddw0KiplVY5Q"
      }
    },
    {
      "cell_type": "markdown",
      "source": [
        "## 問題與挑戰"
      ],
      "metadata": {
        "id": "tzPGMoV9VSs4"
      }
    },
    {
      "cell_type": "markdown",
      "source": [
        "\n",
        "\n",
        "1.   **網頁更新頻率**：氣象局的資料可能更新，需考慮更新週期與爬蟲排程。\n",
        "2.   **使用者介面**：Gradio 的互動設計需簡潔，讓使用者快速取得所需資訊。\n",
        "\n"
      ],
      "metadata": {
        "id": "BvTvzlG_VR0Y"
      }
    },
    {
      "cell_type": "markdown",
      "source": [
        "## 結論"
      ],
      "metadata": {
        "id": "bOue4WY5VZL5"
      }
    },
    {
      "cell_type": "markdown",
      "source": [
        "本次作業示範了如何結合爬蟲技術與前端互動介面，有效取得中央氣象局的七天天氣資料，並提供簡單的互動式使用者體驗。未來可應用於更多開放性資料的擷取與展示，為各種生活及商業應用提供基礎。"
      ],
      "metadata": {
        "id": "RszEqq0GVkQh"
      }
    },
    {
      "cell_type": "markdown",
      "source": [
        "## 參考文獻"
      ],
      "metadata": {
        "id": "56yyWlEOVlFP"
      }
    },
    {
      "cell_type": "markdown",
      "source": [
        "中央氣象局官方網站：https://www.cwa.gov.tw/V8/C/W/week.html"
      ],
      "metadata": {
        "id": "vOUXiNY4VhDp"
      }
    }
  ]
}