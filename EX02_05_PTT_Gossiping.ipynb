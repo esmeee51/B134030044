{
  "nbformat": 4,
  "nbformat_minor": 0,
  "metadata": {
    "colab": {
      "provenance": [],
      "authorship_tag": "ABX9TyMchPJwlEWCtJuqTQEYGOss",
      "include_colab_link": true
    },
    "kernelspec": {
      "name": "python3",
      "display_name": "Python 3"
    },
    "language_info": {
      "name": "python"
    }
  },
  "cells": [
    {
      "cell_type": "markdown",
      "metadata": {
        "id": "view-in-github",
        "colab_type": "text"
      },
      "source": [
        "<a href=\"https://colab.research.google.com/github/esmeee51/B134030044/blob/main/EX02_05_PTT_Gossiping.ipynb\" target=\"_parent\"><img src=\"https://colab.research.google.com/assets/colab-badge.svg\" alt=\"Open In Colab\"/></a>"
      ]
    },
    {
      "cell_type": "markdown",
      "source": [
        "### 電影版單篇"
      ],
      "metadata": {
        "id": "DX_Ucp02ladm"
      }
    },
    {
      "cell_type": "code",
      "execution_count": 5,
      "metadata": {
        "colab": {
          "base_uri": "https://localhost:8080/"
        },
        "id": "edjG5mqt2HUi",
        "outputId": "74233950-ff86-4024-eead-23c5a00a7cec"
      },
      "outputs": [
        {
          "output_type": "execute_result",
          "data": {
            "text/plain": [
              "200"
            ]
          },
          "metadata": {},
          "execution_count": 5
        }
      ],
      "source": [
        "import requests\n",
        "from bs4 import BeautifulSoup\n",
        "\n",
        "url = \"https://www.ptt.cc/bbs/Gossiping/index.html\"\n",
        "response = requests.get(url)\n",
        "response.status_code"
      ]
    },
    {
      "cell_type": "code",
      "source": [
        "soup = BeautifulSoup(response.text, \"lxml\")\n",
        "soup.title"
      ],
      "metadata": {
        "colab": {
          "base_uri": "https://localhost:8080/"
        },
        "id": "ZlM0KWOOI_nm",
        "outputId": "5cf41994-6390-433c-ad80-2057cea3defd"
      },
      "execution_count": 6,
      "outputs": [
        {
          "output_type": "execute_result",
          "data": {
            "text/plain": [
              "<title>看板 Gossiping 文章列表 - 批踢踢實業坊</title>"
            ]
          },
          "metadata": {},
          "execution_count": 6
        }
      ]
    },
    {
      "cell_type": "code",
      "source": [
        "for atcl in soup.find_all(\"div\",class_=\"r-ent\"):\n",
        "  ttle = atcl.find(\"div\",class_=\"title\").a.text\n",
        "  href = \"https://www.ptt.cc\"+ atcl.find(\"div\",class_=\"title\").a.get(\"href\")\n",
        "  date = atcl.find(\"div\",class_=\"date\").text\n",
        "  print(date,href,ttle)"
      ],
      "metadata": {
        "colab": {
          "base_uri": "https://localhost:8080/"
        },
        "id": "t2IM6qqJgnPo",
        "outputId": "e4edf4d0-3bcf-4ec9-b6d5-20f3723edfbc"
      },
      "execution_count": 7,
      "outputs": [
        {
          "output_type": "stream",
          "name": "stdout",
          "text": [
            " 3/26 https://www.ptt.cc/bbs/Gossiping/M.1742976942.A.445.html [問卦] 產假還要雇主付錢不是很奇怪嗎？\n",
            " 3/26 https://www.ptt.cc/bbs/Gossiping/M.1742977034.A.561.html [問卦] 小政府跟大政府哪個好\n",
            "11/02 https://www.ptt.cc/bbs/Gossiping/M.1730554547.A.41C.html Fw: [公告] 請留意新註冊帳號使用信件詐騙\n",
            " 1/21 https://www.ptt.cc/bbs/Gossiping/M.1737398137.A.644.html [公告] 八卦板板規(2025.01.21)\n",
            " 2/20 https://www.ptt.cc/bbs/Gossiping/M.1740024219.A.1EB.html [公告]  春季大反攻！！八卦板主徵選報名開始捏\n",
            " 3/12 https://www.ptt.cc/bbs/Gossiping/M.1741791500.A.EB6.html Fw: [公告] 請避免與登入1次之帳號進行交易 發錢\n"
          ]
        }
      ]
    },
    {
      "cell_type": "code",
      "source": [
        "\"https://www.ptt.cc\"+ soup.find_all(\"a\", class_=\"btn wide\")[1].get(\"href\")"
      ],
      "metadata": {
        "colab": {
          "base_uri": "https://localhost:8080/",
          "height": 35
        },
        "id": "D-ILK5Msh89I",
        "outputId": "9b4ea39a-7ca1-47a8-9830-d96906e0e071"
      },
      "execution_count": 8,
      "outputs": [
        {
          "output_type": "execute_result",
          "data": {
            "text/plain": [
              "'https://www.ptt.cc/bbs/Gossiping/index39128.html'"
            ],
            "application/vnd.google.colaboratory.intrinsic+json": {
              "type": "string"
            }
          },
          "metadata": {},
          "execution_count": 8
        }
      ]
    },
    {
      "cell_type": "markdown",
      "source": [
        "### 電影版五篇"
      ],
      "metadata": {
        "id": "zTAe8RDTiWjw"
      }
    },
    {
      "cell_type": "code",
      "source": [
        "def get_articles(url):\n",
        "  response = requests.get(url)\n",
        "  soup = BeautifulSoup(response.text, \"lxml\")\n",
        "  for atcl in soup.find_all(\"div\", class_=\"r-ent\"):\n",
        "    if atcl.find(\"div\", class_=\"title\").a:\n",
        "      ttle = atcl.find(\"div\", class_=\"title\").a.text\n",
        "      href = \"https://www.ptt.cc\" + atcl.find(\"div\", class_=\"title\").a.get(\"href\")\n",
        "    else:\n",
        "      ttle = atcl.find(\"div\",class_=\"title\").text.strip()\n",
        "      href = \"\"\n",
        "    date = atcl.find(\"div\", class_=\"date\").text\n",
        "    print(date, href, ttle)\n",
        "  url = \"https://www.ptt.cc\" + soup.find_all(\"a\",class_=\"btn wide\")[1].get(\"href\")\n",
        "  return url\n",
        "url = \"https://www.ptt.cc/bbs/Movie/index.html\"\n",
        "for i in range(5):\n",
        "  url = get_articles(url)"
      ],
      "metadata": {
        "colab": {
          "base_uri": "https://localhost:8080/"
        },
        "id": "dfWndB7micUX",
        "outputId": "81578055-072e-4345-ad00-89752cd1fdde"
      },
      "execution_count": 10,
      "outputs": [
        {
          "output_type": "stream",
          "name": "stdout",
          "text": [
            " 3/26 https://www.ptt.cc/bbs/movie/M.1742963551.A.564.html [討論] 任賢齊的演技怎麼都拉不起來？\n",
            " 3/26 https://www.ptt.cc/bbs/movie/M.1742967897.A.720.html [分享] 風之谷第四週特典海報\n",
            " 3/26 https://www.ptt.cc/bbs/movie/M.1742968618.A.7D5.html [新聞] 映画『Chao』人魚姫・山田杏奈、姫に求婚\n",
            " 3/26 https://www.ptt.cc/bbs/movie/M.1742971454.A.D1D.html [新聞] 《白雪公主》陷爭議風波 黃金時段影院座位\n",
            " 3/26 https://www.ptt.cc/bbs/movie/M.1742973082.A.1D0.html [討論] 「突變第三型」是一開始就打算拍前傳吧？\n",
            " 3/26 https://www.ptt.cc/bbs/movie/M.1742973322.A.78B.html [微雷] 東京牛仔很忙 觀後感\n",
            " 3/26 https://www.ptt.cc/bbs/movie/M.1742976275.A.59A.html [選片] 無痛先生 米奇17號 風之谷\n",
            " 9/04 https://www.ptt.cc/bbs/movie/M.1630756788.A.1FE.html [公告] 電影板板規 2022/12/5\n",
            " 9/15 https://www.ptt.cc/bbs/movie/M.1694784041.A.89F.html [公告] 禁政治版規 及 投票結果\n",
            " 3/25 https://www.ptt.cc/bbs/movie/M.1742882992.A.C16.html [請益] 月老 原著比電影好看很多嗎?\n",
            " 3/25 https://www.ptt.cc/bbs/movie/M.1742883654.A.D09.html [新聞] 星際寶貝選角太白爭議\n",
            " 3/25 https://www.ptt.cc/bbs/movie/M.1742885304.A.3BD.html [討論] 你最喜歡王家衛東邪西毒的哪個角色?\n",
            " 3/25 https://www.ptt.cc/bbs/movie/M.1742887173.A.C86.html [情報] 《迷宮裡的魔術師》9月日本上映\n",
            " 3/25 https://www.ptt.cc/bbs/movie/M.1742891185.A.B53.html Re: [超好雷] 特洛伊：木馬屠城\n",
            " 3/25 https://www.ptt.cc/bbs/movie/M.1742894887.A.C0A.html [討論] 向華強跟向佐誰演技強？\n",
            " 3/25 https://www.ptt.cc/bbs/movie/M.1742895223.A.0D0.html [好雷] 《你的顏色》—給聯覺者的出口\n",
            " 3/25 https://www.ptt.cc/bbs/movie/M.1742900208.A.FC2.html [討論] 下一個王祖賢在哪裡？\n",
            " 3/25 https://www.ptt.cc/bbs/movie/M.1742903695.A.7E3.html [新聞] 馬來西亞《白雪公主》撲街沒人看 《哪吒2\n",
            " 3/25 https://www.ptt.cc/bbs/movie/M.1742904445.A.D01.html [新聞] <型男主廚三星夢:巴黎篇>日韓男神飆演技\n",
            " 3/25 https://www.ptt.cc/bbs/movie/M.1742904914.A.EC9.html Re: [討論] 下一個王祖賢在哪裡？\n",
            " 3/25 https://www.ptt.cc/bbs/movie/M.1742905700.A.5C5.html [好雷] 電影《孤獨的美食家》 五郎尋湯大冒險\n",
            " 3/25 https://www.ptt.cc/bbs/movie/M.1742909639.A.C38.html [討論] 雙刀火雞對史蒂芬周的感情\n",
            " 3/25  (本文已被刪除) [pennyleo]\n",
            " 3/25 https://www.ptt.cc/bbs/movie/M.1742911119.A.980.html [討論] 瑞秋曾格勒公開臭自己的「沙贊2」沒人看\n",
            " 3/25 https://www.ptt.cc/bbs/movie/M.1742912168.A.FE2.html [好雷] 白雪公主：恐怖故事\n",
            " 3/25 https://www.ptt.cc/bbs/movie/M.1742916190.A.72E.html [情報] 絕命終結站：血脈 最新預告\n",
            " 3/26 https://www.ptt.cc/bbs/movie/M.1742921251.A.0C9.html [好無雷]  型男主廚三星夢 木村繼續走下神壇？\n",
            " 3/26  (本文已被刪除) [hshshshs]\n",
            " 3/26 https://www.ptt.cc/bbs/movie/M.1742962341.A.E81.html [情報]《進擊的巨人》艾連生日場-A3學校階級海報\n",
            " 3/24 https://www.ptt.cc/bbs/movie/M.1742826405.A.F9F.html [好慢雷]  Mikey 17\n",
            " 3/24 https://www.ptt.cc/bbs/movie/M.1742826519.A.D95.html [新聞] 大阪亞洲影展 「我家的事」4台灣演員同獲藥師真珠獎\n",
            " 3/24 https://www.ptt.cc/bbs/movie/M.1742828958.A.3FB.html Re: [討論] 白雪公主該給誰演\n",
            " 3/25  (本文已被刪除) [XDGEE]\n",
            " 3/25 https://www.ptt.cc/bbs/movie/M.1742833366.A.CD3.html [新聞] 新版《惡靈古堡》真人電影劇情曝光！主角\n",
            " 3/25 https://www.ptt.cc/bbs/movie/M.1742833522.A.5C4.html [新聞] 伊莉莎白歐森想扮「老年版」緋紅女巫！喊\n",
            " 3/25 https://www.ptt.cc/bbs/movie/M.1742836118.A.D8B.html [討論] 強納森梅傑斯「雜誌夢」爛番茄81%\n",
            " 3/25 https://www.ptt.cc/bbs/movie/M.1742838281.A.3D3.html [討論] 變形金剛 萬獸崛起 \n",
            " 3/25 https://www.ptt.cc/bbs/movie/M.1742848612.A.7D0.html [超好雷] 特洛伊：木馬屠城\n",
            " 3/25 https://www.ptt.cc/bbs/movie/M.1742861864.A.E08.html [討論] 伊麗莎白歐森說她不會演復5復6\n",
            " 3/25 https://www.ptt.cc/bbs/movie/M.1742868018.A.5A0.html [討論] 關於進電影院這回事\n",
            " 3/25 https://www.ptt.cc/bbs/movie/M.1742868930.A.2AC.html Re: [討論] 白雪公主該給誰演\n",
            " 3/25 https://www.ptt.cc/bbs/movie/M.1742869316.A.EC6.html [新聞] 全新重啟版《神鬼傳奇》正式開拍 \n",
            " 3/25 https://www.ptt.cc/bbs/movie/M.1742869431.A.FB6.html [新聞] 漫威MCU宇宙第七階段預計推出的四部電影\n",
            " 3/25 https://www.ptt.cc/bbs/movie/M.1742869791.A.110.html [請益] 給我一首琴的時間 預告裡的英文歌是?\n",
            " 3/25 https://www.ptt.cc/bbs/movie/M.1742869993.A.4A0.html Re: [討論] 變形金剛 萬獸崛起 \n",
            " 3/25 https://www.ptt.cc/bbs/movie/M.1742876834.A.2EF.html [討論] 迪士尼公主哪個算是成功真人化？\n",
            " 3/25 https://www.ptt.cc/bbs/movie/M.1742879077.A.5FA.html [新聞] 無懼膚色爭議 《白雪公主》穩坐台美票房\n",
            " 3/25 https://www.ptt.cc/bbs/movie/M.1742880200.A.5C0.html [片單] 賺災難財的電影\n",
            " 3/25 https://www.ptt.cc/bbs/movie/M.1742881665.A.04A.html [新聞] 剛獲奧斯卡最佳紀錄片獎 巴勒斯坦導演遇襲後遭以軍逮捕\n",
            " 3/24 https://www.ptt.cc/bbs/movie/M.1742790359.A.D09.html [普雷] 妳是我眼中的蘋果-偶像劇框架的四不像\n",
            " 3/24 https://www.ptt.cc/bbs/movie/M.1742794880.A.0F3.html [新聞] 《白雪公主》真人電影上映！ 爭議一籮筐\n",
            " 3/24 https://www.ptt.cc/bbs/movie/M.1742796445.A.7C9.html [好雷] 《封神第二部：戰火西岐》比想像中有料\n",
            " 3/24 https://www.ptt.cc/bbs/movie/M.1742796508.A.6CA.html [新聞] 約翰卡本特為奉俊昊下部電影配樂\n",
            " 3/24 https://www.ptt.cc/bbs/movie/M.1742801877.A.064.html Re: [贈票] 究竟誰是兇手【無線殺機】北中南搶先看\n",
            " 3/24 https://www.ptt.cc/bbs/movie/M.1742802552.A.693.html [新聞] 觀眾不買單！《白雪公主》首週北美票房\n",
            " 3/24 https://www.ptt.cc/bbs/movie/M.1742804191.A.0CC.html [情報] 天作之合首支中文預告 \n",
            " 3/24 https://www.ptt.cc/bbs/movie/M.1742804334.A.7D0.html [好雷] 【Queer】這種美，是醍醐灌頂的享受\n",
            " 3/24 https://www.ptt.cc/bbs/movie/M.1742804690.A.FBF.html [討論] 真人化電影IMDB分數最後一名\n",
            " 3/24 https://www.ptt.cc/bbs/movie/M.1742805883.A.149.html [普雷]《青春末世物語》體制、地震、成長痛\n",
            " 3/24 https://www.ptt.cc/bbs/movie/M.1742808757.A.BB8.html [討論] 看過最爽的4DX電影\n",
            " 3/24  (本文已被刪除) [XDGEE]\n",
            " 3/24 https://www.ptt.cc/bbs/movie/M.1742818135.A.327.html [新聞] 馬修麥康納支持「征服者康」繼續拍戲！超\n",
            " 3/24 https://www.ptt.cc/bbs/movie/M.1742818206.A.3B8.html [新聞] 《白雪公主》票房創迪士尼新低！勞勃許奈\n",
            " 3/24 https://www.ptt.cc/bbs/movie/M.1742818647.A.9E4.html [新聞] 迪士尼《白雪公主》爆好評！電影上映穩\n",
            " 3/24 https://www.ptt.cc/bbs/movie/M.1742820071.A.B49.html [普雷]《Queer》：老少男同志的中門對狙\n",
            " 3/24 https://www.ptt.cc/bbs/movie/M.1742821966.A.FF2.html [新聞] IMDB評2.2分真人版「白雪公主」\n",
            " 3/24 https://www.ptt.cc/bbs/movie/M.1742822298.A.8F2.html [問片] 想找一種類型的電影\n",
            " 3/24 https://www.ptt.cc/bbs/movie/M.1742824490.A.E4E.html Re: [討論] 看過最爽的4DX電影\n",
            " 3/24 https://www.ptt.cc/bbs/movie/M.1742825277.A.38C.html [討論] 白雪公主該給誰演\n",
            " 3/23 https://www.ptt.cc/bbs/movie/M.1742736798.A.FF8.html [普雷] 白雪公主\n",
            " 3/23 https://www.ptt.cc/bbs/movie/M.1742737781.A.608.html [微好雷] 我們的故事未來待續\n",
            " 3/23 https://www.ptt.cc/bbs/movie/M.1742738301.A.D16.html [好雷] 白雪公主 (1937年版)\n",
            " 3/23 https://www.ptt.cc/bbs/movie/M.1742738632.A.E99.html [大爆雷] 小小的我\n",
            " 3/23 https://www.ptt.cc/bbs/movie/M.1742740720.A.5FA.html [討論] 烏爾善的三部曲成本也太高了吧？\n",
            " 3/23 https://www.ptt.cc/bbs/movie/M.1742741955.A.B1F.html [討論] Felicity Jones 有搞頭嗎\n",
            " 3/23 https://www.ptt.cc/bbs/movie/M.1742742110.A.525.html [普好雷] 給我一首琴的時間-時機的浪漫變奏\n",
            " 3/23 https://www.ptt.cc/bbs/movie/M.1742743911.A.933.html [情報] 3/23 當週12部新片預告+Youtube觀看排行\n",
            " 3/23 https://www.ptt.cc/bbs/movie/M.1742744549.A.D6D.html [好無雷] 【不丹是幸福】沒有比較沒有傷害\n",
            " 3/24 https://www.ptt.cc/bbs/movie/M.1742746631.A.12C.html [好雷] 封神第二部：戰火西岐\n",
            " 3/24 https://www.ptt.cc/bbs/movie/M.1742746938.A.446.html [新聞] 白雪公主首周4300萬美金\n",
            " 3/24 https://www.ptt.cc/bbs/movie/M.1742747464.A.785.html [片單] 請問韓國搞笑片\n",
            " 3/24 https://www.ptt.cc/bbs/movie/M.1742751374.A.FA1.html Re: [討論] 電影院是不是沒落了？\n",
            " 3/24 https://www.ptt.cc/bbs/movie/M.1742753293.A.E60.html [負雷]白雪公主2025電影版觀後感 \n",
            " 3/24 https://www.ptt.cc/bbs/movie/M.1742754841.A.581.html Re: [討論] 電影院是不是沒落了？\n",
            " 3/24 https://www.ptt.cc/bbs/movie/M.1742771690.A.B9E.html [新聞] 1937動畫《白雪公主》、2025電影真人版 \n",
            " 3/24 https://www.ptt.cc/bbs/movie/M.1742778081.A.F5F.html [討論] 演員的肢體語言影響觀影感受\n",
            " 3/24 https://www.ptt.cc/bbs/movie/M.1742785444.A.84E.html [微好雷] 《吸血鬼：諾斯費拉圖》 \n",
            " 3/24 https://www.ptt.cc/bbs/movie/M.1742788129.A.06B.html Re: [討論] 電影院是不是沒落了？\n",
            " 3/24 https://www.ptt.cc/bbs/movie/M.1742790075.A.B25.html [請益] 老片重映的播放格式\n"
          ]
        }
      ]
    },
    {
      "cell_type": "markdown",
      "source": [
        "### 美食版五篇"
      ],
      "metadata": {
        "id": "_04ftVpEk18-"
      }
    },
    {
      "cell_type": "code",
      "source": [
        "def get_articles(url):\n",
        "  response = requests.get(url)\n",
        "  soup = BeautifulSoup(response.text, \"lxml\")\n",
        "  for atcl in soup.find_all(\"div\", class_=\"r-ent\"):\n",
        "    if atcl.find(\"div\", class_=\"title\").a:\n",
        "      ttle = atcl.find(\"div\", class_=\"title\").a.text\n",
        "      href = \"https://www.ptt.cc\" + atcl.find(\"div\", class_=\"title\").a.get(\"href\")\n",
        "    else:\n",
        "      ttle = atcl.find(\"div\",class_=\"title\").text.strip()\n",
        "      href = \"\"\n",
        "    date = atcl.find(\"div\", class_=\"date\").text\n",
        "    print(date, href, ttle)\n",
        "  url = \"https://www.ptt.cc\" + soup.find_all(\"a\",class_=\"btn wide\")[1].get(\"href\")\n",
        "  return url\n",
        "url = \"https://www.ptt.cc/bbs/Food/index.html\"\n",
        "for i in range(5):\n",
        "  url = get_articles(url)"
      ],
      "metadata": {
        "colab": {
          "base_uri": "https://localhost:8080/"
        },
        "id": "JncAMXs-k1jX",
        "outputId": "576151a0-a906-4f8c-bac5-e38637dcba3b"
      },
      "execution_count": 11,
      "outputs": [
        {
          "output_type": "stream",
          "name": "stdout",
          "text": [
            " 3/25 https://www.ptt.cc/bbs/Food/M.1742910899.A.DFE.html [食記] 新竹 墨多 再訪\n",
            " 3/25 https://www.ptt.cc/bbs/Food/M.1742911175.A.7EF.html [食記] 日本 大阪 日本橋 なにわ新風 日本橋總本\n",
            " 3/25 https://www.ptt.cc/bbs/Food/M.1742911524.A.689.html [食記] 桃園平鎮區。天津小籠包（矮房子）\n",
            " 3/25 https://www.ptt.cc/bbs/Food/M.1742916544.A.1DE.html [食記] 台中 新天地崇德旗艦店-樂食自助百匯 \n",
            " 3/25 https://www.ptt.cc/bbs/Food/M.1742917338.A.192.html [食記] 基隆中正區-朴庶韓國烤肉 基隆北寧店\n",
            " 3/26 https://www.ptt.cc/bbs/Food/M.1742960584.A.F75.html [食記] 沖茶 台北信義 清香香蘭葉冰茶香蘭葉甜糕\n",
            " 3/26 https://www.ptt.cc/bbs/Food/M.1742969454.A.BA4.html [廣宣] 南港 LaLaport舒芙蕾鬆餅推-武蔵野森珈琲\n",
            " 3/26 https://www.ptt.cc/bbs/Food/M.1742975399.A.0C1.html [食記] 台南北區 賀呷肉燥飯虱目魚\n",
            " 3/26 https://www.ptt.cc/bbs/Food/M.1742976377.A.E18.html [食記] 高雄苓雅區 正義蚵仔麵線\n",
            "12/16 https://www.ptt.cc/bbs/Food/M.1355673582.A.5F7.html [公告] Food板 板規 V3.91\n",
            " 9/28 https://www.ptt.cc/bbs/Food/M.1190944426.A.E6C.html [公告] 發文請在標題加上地區及提供地址電話。^^\n",
            "10/01 https://www.ptt.cc/bbs/Food/M.1128132666.A.0FD.html [公告] 文章被刪除者請洽精華區的資源回收桶\n",
            " 6/04 https://www.ptt.cc/bbs/Food/M.1496532469.A.C36.html [公告] 新增板規22：發文禁附延伸閱讀連結\n",
            " 3/23 https://www.ptt.cc/bbs/Food/M.1742690549.A.5A6.html [食記] 正宗岡山羊肉 新北土城 麻油炒羊肉羊雜湯\n",
            " 3/23 https://www.ptt.cc/bbs/Food/M.1742692135.A.5D5.html [食記] 竹北 日式板前無菜單料理，豪軒\n",
            " 3/23 https://www.ptt.cc/bbs/Food/M.1742695050.A.094.html [食記] 日本東京 HARBS澀谷櫻花舞台店\n",
            " 3/23 https://www.ptt.cc/bbs/Food/M.1742695486.A.EA9.html [食記] 泰國佛統府 After the Rain Coffee\n",
            " 3/23 https://www.ptt.cc/bbs/Food/M.1742702180.A.D4C.html [食記] 澳門。倫敦人酒店-Shake Shack漢堡\n",
            " 3/23 https://www.ptt.cc/bbs/Food/M.1742705372.A.6A7.html [食記] 斗南 榕苑古蹟餐飲\n",
            " 3/23 https://www.ptt.cc/bbs/Food/M.1742709100.A.1A8.html [食記] 東京新宿 AFURI 新宿ルミネ 柚子鹽味拉麵\n",
            " 3/23 https://www.ptt.cc/bbs/Food/M.1742735426.A.EB7.html [食記] 台中 飪室咖哩\n",
            " 3/23 https://www.ptt.cc/bbs/Food/M.1742739508.A.DB2.html [食記] 桃園蘆竹區。許家肉圓\n",
            " 3/23 https://www.ptt.cc/bbs/Food/M.1742739611.A.69C.html [食記] 日本 長崎 長崎車站 中華大八\n",
            " 3/24 https://www.ptt.cc/bbs/Food/M.1742752182.A.C6F.html [請益] 信義區下午就能喝酒吃小菜的地方\n",
            " 3/24 https://www.ptt.cc/bbs/Food/M.1742783430.A.F20.html [食記] 台南 阿龍香腸熟肉 老味道 阿舍菜\n",
            " 3/24 https://www.ptt.cc/bbs/Food/M.1742784937.A.425.html [食記] 昌明豆漿小籠包 新北新莊 香麻辣Q小籠包\n",
            " 3/24 https://www.ptt.cc/bbs/Food/M.1742799570.A.10F.html Fw: [食記] 東京 つばめグリル 多蜜醬紙包燉煮漢堡排\n",
            " 3/24 https://www.ptt.cc/bbs/Food/M.1742808041.A.0BE.html [食記] 桃園 平鎮 松源客家菜館\n",
            " 3/24 https://www.ptt.cc/bbs/Food/M.1742824448.A.FB6.html [食記] 台北 CHA CHA THÉ CUISINE采采食茶\n",
            " 3/24 https://www.ptt.cc/bbs/Food/M.1742829379.A.4FD.html [食記] 桃園 Mellowed Me 美若靡商行 美味甜點店\n",
            " 3/25 https://www.ptt.cc/bbs/Food/M.1742836224.A.B4E.html [食記] 台北 文山 老饒牛肉麵店\n",
            " 3/25 https://www.ptt.cc/bbs/Food/M.1742876273.A.906.html [食記] いづ重 日本京都 醋飯酸香風味淡雅箱壽司\n",
            " 3/25 https://www.ptt.cc/bbs/Food/M.1742908442.A.E76.html [食記] 台北 一甲子餐飲 米其林必比登\n",
            " 3/20 https://www.ptt.cc/bbs/Food/M.1742462141.A.778.html [食記] 台中 豐原廟東夜市懶人包，菱角酥/蒜肉飯\n",
            " 3/20 https://www.ptt.cc/bbs/Food/M.1742470166.A.BFE.html [食記] 台南東區 黑家麵館 好吃的涼皮 免費冷飲\n",
            " 3/20 https://www.ptt.cc/bbs/Food/M.1742473819.A.45C.html [食記] 彰化 與咖啡 本事空間設計獨棟美宅\n",
            " 3/20 https://www.ptt.cc/bbs/Food/M.1742473964.A.770.html [食記] 雪梨5間咖啡廳推薦：Single O, Campos \n",
            " 3/20 https://www.ptt.cc/bbs/Food/M.1742479629.A.D2D.html [食記] 基隆市信義區-麵匡匡拉麵食堂 基隆深溪店\n",
            " 3/20 https://www.ptt.cc/bbs/Food/M.1742479758.A.EDC.html [食記] 台北 TIPSY Sparrow\n",
            " 3/20 https://www.ptt.cc/bbs/Food/M.1742480837.A.CBF.html [食記] 桃園中壢區。清牛堂 專業清燉牛肉麵\n",
            " 3/20 https://www.ptt.cc/bbs/Food/M.1742482677.A.C33.html [食記] 羅東 悟饕 台式控肉飯包\n",
            " 3/21 https://www.ptt.cc/bbs/Food/M.1742491464.A.D55.html [食記] 台北 內湖 東引快刀手內湖店\n",
            " 3/21 https://www.ptt.cc/bbs/Food/M.1742515056.A.D30.html [食記] 桃園中壢-多樣和牛吃到飽-和牛涮\n",
            " 3/21 https://www.ptt.cc/bbs/Food/M.1742516450.A.B91.html [食記] 高雄.美濃-阿香的廚房\n",
            " 3/21 https://www.ptt.cc/bbs/Food/M.1742554795.A.AF1.html [食記] 三姐妹餐飲店 基隆仁愛 五味軟絲炸紅燒鰻\n",
            " 3/21 https://www.ptt.cc/bbs/Food/M.1742563372.A.B6B.html [食記] 日本 HARBS 午間套餐\n",
            " 3/21 https://www.ptt.cc/bbs/Food/M.1742566946.A.054.html [食記] 香港 天龍軒 (米其林二星)\n",
            " 3/22 https://www.ptt.cc/bbs/Food/M.1742576568.A.78E.html [食記] 台北 大安 詹記麻辣火鍋(敦南店)\n",
            " 3/22 https://www.ptt.cc/bbs/Food/M.1742608702.A.5D7.html [食記] 東京燒肉 蕃ebisu yoroniku  \n",
            " 3/22 https://www.ptt.cc/bbs/Food/M.1742631341.A.9C4.html [食記] 台中 中區｜敷酒串屋 FU JIU\n",
            " 3/22 https://www.ptt.cc/bbs/Food/M.1742635712.A.94F.html [食記] 桃園。法大炸雞\n",
            " 3/22 https://www.ptt.cc/bbs/Food/M.1742635962.A.A21.html [食記] 炸豬排檍 日本東京 香酥炸豬排搭伍斯特醬\n",
            " 3/22 https://www.ptt.cc/bbs/Food/M.1742655463.A.A04.html [食記] 東京六厘舍|車站地下街~大份量沾麵\n",
            " 3/18 https://www.ptt.cc/bbs/Food/M.1742306794.A.ED2.html [食記] 花蓮 花蓮香扁食 好吃的扁食店\n",
            " 3/18 https://www.ptt.cc/bbs/Food/M.1742308709.A.61A.html [食記] 桃園。中正路無名小吃（貨運小吃）\n",
            " 3/18 https://www.ptt.cc/bbs/Food/M.1742309424.A.1D6.html [食記] 西班牙馬德里 T4清茶達人 珍珠 仙草\n",
            " 3/19 https://www.ptt.cc/bbs/Food/M.1742350058.A.3D2.html [食記] 台中 北區 鮮魚鑫蝦仁飯\n",
            " 3/19  \n",
            " 3/19 https://www.ptt.cc/bbs/Food/M.1742357159.A.A19.html [食記] 熊本 磯丸水產 24小時海鮮燒烤、小火鍋\n",
            " 3/19 https://www.ptt.cc/bbs/Food/M.1742357912.A.DAA.html [食記] 東引 好列豆漿 品嚐特色在地口味的燒餅\n",
            " 3/19 https://www.ptt.cc/bbs/Food/M.1742369404.A.AD7.html [食記] 西門町走過一甲子的超人氣蜂大咖啡\n",
            " 3/19 https://www.ptt.cc/bbs/Food/M.1742379435.A.AF4.html Re: [食記] 台北 張家清真黃牛肉麵館\n",
            " 3/19 https://www.ptt.cc/bbs/Food/M.1742381965.A.9BF.html [食記] 台北 文山 木柵老爹鵝肉專賣店\n",
            " 3/19 https://www.ptt.cc/bbs/Food/M.1742385507.A.E9E.html [食記] 花蓮 液香扁食 最愛最強的花蓮扁食\n",
            " 3/19 https://www.ptt.cc/bbs/Food/M.1742387254.A.547.html [食記] 台北 士林區｜杺日式餐酒館\n",
            " 3/19 https://www.ptt.cc/bbs/Food/M.1742390218.A.200.html [食記] 台中 魚麗共同廚房\n",
            " 3/19 https://www.ptt.cc/bbs/Food/M.1742392470.A.838.html [食記] 蘇媽媽湯圓 台北大安 色彩繽紛綜合甜湯圓\n",
            " 3/19 https://www.ptt.cc/bbs/Food/M.1742395894.A.2E4.html [食記] 美國 北加人氣咖啡Verve Coffee Roasters\n",
            " 3/20 https://www.ptt.cc/bbs/Food/M.1742428245.A.34B.html [食記] 日本高千穗-雞肉好吃又特別-鶏の炭火焼 \n",
            " 3/20 https://www.ptt.cc/bbs/Food/M.1742434318.A.C20.html [廣宣] 新北 平價串燒19元起-柒息地串燒居酒屋\n",
            " 3/20 https://www.ptt.cc/bbs/Food/M.1742441653.A.14F.html [請益] 雙北適合家庭聚餐的餐廳(桌菜為主)\n",
            " 3/20 https://www.ptt.cc/bbs/Food/M.1742449689.A.536.html [食記] 台北中正 華山町餐酒館\n",
            " 3/20 https://www.ptt.cc/bbs/Food/M.1742460087.A.AAA.html [食記] 麵屋高倉二条 日本京都 豚骨魚介牛腸沾麵\n",
            " 3/15 https://www.ptt.cc/bbs/Food/M.1742017593.A.0F0.html [食記] 台中 大里區｜享千葉火鍋 大里店\n",
            " 3/15 https://www.ptt.cc/bbs/Food/M.1742040041.A.67D.html [食記] 台北 曾家豆漿 蛋塔\n",
            " 3/15 https://www.ptt.cc/bbs/Food/M.1742044010.A.74C.html [食記] 桃園中壢區。阿中炒羊肉\n",
            " 3/15 https://www.ptt.cc/bbs/Food/M.1742046323.A.D56.html [食記] 雪梨 8間超人氣Gelato店家心得\n",
            " 3/16 https://www.ptt.cc/bbs/Food/M.1742100651.A.A60.html [食記] 桃園 桃園區｜HOTPOT-BBQ\n",
            " 3/16 https://www.ptt.cc/bbs/Food/M.1742107165.A.BF2.html [食記] 好記食品 新北永和 香氣十足酥鬆松子桃酥\n",
            " 3/16 https://www.ptt.cc/bbs/Food/M.1742119496.A.15B.html [食記] 台北 稻舍食館\n",
            " 3/17 https://www.ptt.cc/bbs/Food/M.1742177266.A.A99.html [食記] 撈月麵館 新北新莊 干貝海鮮叻沙Q麵疙瘩\n",
            " 3/17 https://www.ptt.cc/bbs/Food/M.1742183334.A.B96.html [食記] 基隆仁愛市場 港仔味 超道地且格不貴港料\n",
            " 3/17 https://www.ptt.cc/bbs/Food/M.1742204392.A.633.html [心得] 漢來 島語自助餐 喝酒去\n",
            " 3/17 https://www.ptt.cc/bbs/Food/M.1742212021.A.C17.html [食記] 樂桃機上餐：東京ばな奈カレー \n",
            " 3/17 https://www.ptt.cc/bbs/Food/M.1742214001.A.845.html [食記] 花蓮 練黍叔燒番麥 烤玉米 棒棒\n",
            " 3/17 https://www.ptt.cc/bbs/Food/M.1742220200.A.037.html [食記] 香港 2 Sup\n",
            " 3/17 https://www.ptt.cc/bbs/Food/M.1742223139.A.13C.html [食記] 台北大安—大鼎豬血湯｜名人朝聖四十年豬血湯 沙茶夠味\n",
            " 3/18 https://www.ptt.cc/bbs/Food/M.1742280372.A.049.html [食記] 台北 中山 圓酒まるさけ居酒屋 MARUSAKE IZAKAYA\n",
            " 3/18 https://www.ptt.cc/bbs/Food/M.1742292127.A.5CC.html Fw: [食記] 新竹 曾家餡餅 豬肉/高麗菜/韭菜/紅豆\n",
            " 3/18 https://www.ptt.cc/bbs/Food/M.1742293610.A.20F.html [食記] 宜蘭 五吉小館\n",
            " 3/18 https://www.ptt.cc/bbs/Food/M.1742293961.A.584.html [食記] 虹屋mimi 日本靜岡 酸而開胃鰹魚香大阪燒\n",
            " 3/18 https://www.ptt.cc/bbs/Food/M.1742301960.A.958.html [食記] 甩鍋雞韓式炒雞吃到飽 台中中友店\n",
            " 3/18 https://www.ptt.cc/bbs/Food/M.1742306238.A.197.html [食記] 新竹 高宅 七訪\n"
          ]
        }
      ]
    },
    {
      "cell_type": "markdown",
      "source": [
        "### 八卦版五篇"
      ],
      "metadata": {
        "id": "v3psp2njlDiu"
      }
    },
    {
      "cell_type": "code",
      "source": [
        "def get_articles(url):\n",
        "  response = requests.get(url)\n",
        "  soup = BeautifulSoup(response.text, \"lxml\")\n",
        "  for atcl in soup.find_all(\"div\", class_=\"r-ent\"):\n",
        "    if atcl.find(\"div\", class_=\"title\").a:\n",
        "      ttle = atcl.find(\"div\", class_=\"title\").a.text\n",
        "      href = \"https://www.ptt.cc\" + atcl.find(\"div\", class_=\"title\").a.get(\"href\")\n",
        "    else:\n",
        "      ttle = atcl.find(\"div\",class_=\"title\").text.strip()\n",
        "      href = \"\"\n",
        "    date = atcl.find(\"div\", class_=\"date\").text\n",
        "    print(date, href, ttle)\n",
        "  url = \"https://www.ptt.cc\" + soup.find_all(\"a\",class_=\"btn wide\")[1].get(\"href\")\n",
        "  return url\n",
        "url = \"https://www.ptt.cc/bbs/Gossiping/index.html\"\n",
        "for i in range(5):\n",
        "  url = get_articles(url)"
      ],
      "metadata": {
        "colab": {
          "base_uri": "https://localhost:8080/"
        },
        "id": "QR5-zqSblC--",
        "outputId": "8065ded0-506e-4700-f28a-329fb61a6d77"
      },
      "execution_count": 12,
      "outputs": [
        {
          "output_type": "stream",
          "name": "stdout",
          "text": [
            " 3/26 https://www.ptt.cc/bbs/Gossiping/M.1742976942.A.445.html [問卦] 產假還要雇主付錢不是很奇怪嗎？\n",
            " 3/26 https://www.ptt.cc/bbs/Gossiping/M.1742977034.A.561.html [問卦] 小政府跟大政府哪個好\n",
            " 3/26 https://www.ptt.cc/bbs/Gossiping/M.1742977143.A.6E0.html [新聞] 轟賴政府思想審查 陳培哲等75位學者提聯\n",
            " 3/26 https://www.ptt.cc/bbs/Gossiping/M.1742977146.A.A96.html [問卦] 其實八卦板台男都滿帥的吧\n",
            " 3/26 https://www.ptt.cc/bbs/Gossiping/M.1742977151.A.4C6.html [問卦] 康熙、雍正、乾隆哪個時期最強\n",
            " 3/26 https://www.ptt.cc/bbs/Gossiping/M.1742977156.A.9AC.html [問卦] 沉默之丘f被澳洲禁惹\n",
            " 3/26 https://www.ptt.cc/bbs/Gossiping/M.1742977325.A.C07.html [新聞] 拐杖傷人！柯建銘竟嗆徐巧芯「快告」：\n",
            " 3/26 https://www.ptt.cc/bbs/Gossiping/M.1742977368.A.195.html [新聞] 轟賴政府思想審查 陳培哲等75位學者提聯\n",
            " 3/26 https://www.ptt.cc/bbs/Gossiping/M.1742977512.A.F52.html Re: [問卦] 台灣餐飲業崩盤  到處都是火鍋店？\n",
            " 3/26 https://www.ptt.cc/bbs/Gossiping/M.1742977649.A.454.html [新聞] 28歲高中師傳「多美的奶頭」揭與少女性\n",
            " 3/26 https://www.ptt.cc/bbs/Gossiping/M.1742977706.A.D81.html Re: [問卦] 日女：好看的台男很少\n",
            " 3/26 https://www.ptt.cc/bbs/Gossiping/M.1742977804.A.C6A.html Re: [問卦] 日女：好看的台男很少\n",
            " 3/26 https://www.ptt.cc/bbs/Gossiping/M.1742977815.A.C95.html [問卦] 李嘉誠是不是唯一能修理習近平的商人？\n",
            " 3/26 https://www.ptt.cc/bbs/Gossiping/M.1742977831.A.B63.html [新聞] 刪光公務電腦民眾報案資料 三重派出所女\n",
            " 3/26 https://www.ptt.cc/bbs/Gossiping/M.1742977860.A.201.html [問卦] 還有什麼淘寶好物可以買啊？\n",
            "11/02 https://www.ptt.cc/bbs/Gossiping/M.1730554547.A.41C.html Fw: [公告] 請留意新註冊帳號使用信件詐騙\n",
            " 1/21 https://www.ptt.cc/bbs/Gossiping/M.1737398137.A.644.html [公告] 八卦板板規(2025.01.21)\n",
            " 2/20 https://www.ptt.cc/bbs/Gossiping/M.1740024219.A.1EB.html [公告]  春季大反攻！！八卦板主徵選報名開始捏\n",
            " 3/12 https://www.ptt.cc/bbs/Gossiping/M.1741791500.A.EB6.html Fw: [公告] 請避免與登入1次之帳號進行交易 發錢\n",
            " 3/26 https://www.ptt.cc/bbs/Gossiping/M.1742976086.A.F9A.html Re: [問卦] 美國要放棄台灣 該回歸祖國了吧\n",
            " 3/26 https://www.ptt.cc/bbs/Gossiping/M.1742976150.A.FAC.html [新聞] 早就不演了！中配小微自爆｢把老公當跳\n",
            " 3/26 https://www.ptt.cc/bbs/Gossiping/M.1742976198.A.A47.html [新聞] 2023年才由習派任 網傳中國火箭軍司令王\n",
            " 3/26 https://www.ptt.cc/bbs/Gossiping/M.1742976239.A.E3C.html [問卦] 臉書好友同一張照片不同名字\n",
            " 3/26 https://www.ptt.cc/bbs/Gossiping/M.1742976242.A.FD5.html [新聞] 談國軍加薪　賴清德喊話藍白：邊凍刪預\n",
            " 3/26 https://www.ptt.cc/bbs/Gossiping/M.1742976258.A.6C4.html [問卦] 職訓後還去做低端工作的人在想什麼？\n",
            " 3/26 https://www.ptt.cc/bbs/Gossiping/M.1742976285.A.B46.html Re: [問卦] 日女：好看的台男很少\n",
            " 3/26 https://www.ptt.cc/bbs/Gossiping/M.1742976301.A.057.html [問卦] 我知道妳還是愛著我\n",
            " 3/26 https://www.ptt.cc/bbs/Gossiping/M.1742976460.A.F7A.html Re: [新聞] 被女助理爆料視線「打量身體」涉性騷　邱\n",
            " 3/26 https://www.ptt.cc/bbs/Gossiping/M.1742976520.A.364.html [問卦] 以前登山失蹤的那些人跑哪去了 \n",
            " 3/26 https://www.ptt.cc/bbs/Gossiping/M.1742976614.A.064.html Re: [問卦] 臉書好友同一張照片不同名字\n",
            " 3/26 https://www.ptt.cc/bbs/Gossiping/M.1742976663.A.61D.html [問卦] 羅傑轉生到魔物獵人荒野會有多強\n",
            " 3/26 https://www.ptt.cc/bbs/Gossiping/M.1742976680.A.431.html [新聞] 丈夫出軌妹妹！人妻氣炸「放火燒不忠鵰\n",
            " 3/26 https://www.ptt.cc/bbs/Gossiping/M.1742976720.A.FDC.html [問卦] 被納粹統治or被共產黨統治，哪個比較慘？\n",
            " 3/26 https://www.ptt.cc/bbs/Gossiping/M.1742976812.A.63C.html Re: [新聞] 批藍白惡刪台電補助 民進黨：犧牲台電把\n",
            " 3/26 https://www.ptt.cc/bbs/Gossiping/M.1742976870.A.361.html [問卦] 智取店變自取店\n",
            " 3/26 https://www.ptt.cc/bbs/Gossiping/M.1742976882.A.35D.html [問卦] 國高中戀愛 算不算ㄧ種戀童癖？\n",
            " 3/26 https://www.ptt.cc/bbs/Gossiping/M.1742976882.A.11A.html Re: [新聞] 陸配亞亞限期離境 王鴻薇：不重視人權\n",
            " 3/26 https://www.ptt.cc/bbs/Gossiping/M.1742976888.A.3D9.html [問卦] 別再說是誰的錯讓一切成灰～\n",
            " 3/26 https://www.ptt.cc/bbs/Gossiping/M.1742976899.A.356.html Re: [問卦] 開戰要如何外送陳澄波作品到海外\n",
            " 3/26 https://www.ptt.cc/bbs/Gossiping/M.1742975137.A.5A9.html [問卦] 為什麼台灣人這麼喜歡杞人憂天？\n",
            " 3/26 https://www.ptt.cc/bbs/Gossiping/M.1742975179.A.652.html Re: [新聞] 說明會臨時喊卡！光電業者欲於麻豆設置\n",
            " 3/26 https://www.ptt.cc/bbs/Gossiping/M.1742975208.A.6AF.html Re: [新聞] 批藍白惡刪台電補助 民進黨：犧牲台電把\n",
            " 3/26 https://www.ptt.cc/bbs/Gossiping/M.1742975233.A.1EC.html Re: [問卦] 日女：好看的台男很少\n",
            " 3/26 https://www.ptt.cc/bbs/Gossiping/M.1742975266.A.907.html [新聞] 寫生遇男吐口水　女「速寫」助警火速逮\n",
            " 3/26  (本文已被刪除) [s110269]\n",
            " 3/26 https://www.ptt.cc/bbs/Gossiping/M.1742975346.A.42A.html Re: [問卦] 靠北喔！現在不能當中國人了嗎？？？\n",
            " 3/26 https://www.ptt.cc/bbs/Gossiping/M.1742975364.A.003.html Re: [新聞] 說明會臨時喊卡！光電業者欲於麻豆設\n",
            " 3/26 https://www.ptt.cc/bbs/Gossiping/M.1742975389.A.F5B.html Re: [問卦] 台女通膨為何世界第一?別國女人都不通膨?\n",
            " 3/26 https://www.ptt.cc/bbs/Gossiping/M.1742975408.A.168.html [問卦] 開戰要如何外送陳澄波作品到海外\n",
            " 3/26 https://www.ptt.cc/bbs/Gossiping/M.1742975486.A.642.html [問卦] 房務朋友:討厭接甲甲case 沐浴間有屎！\n",
            " 3/26 https://www.ptt.cc/bbs/Gossiping/M.1742975515.A.13F.html [問卦] 台電根本不是因為買雲豹綠電虧損的\n",
            " 3/26 https://www.ptt.cc/bbs/Gossiping/M.1742975593.A.0EA.html Re: [問卦] 鍾明軒是發生什麼事才這麼挺中呀?\n",
            " 3/26 https://www.ptt.cc/bbs/Gossiping/M.1742975609.A.06A.html [問卦] 台灣的街景是在醜幾點的？\n",
            " 3/26 https://www.ptt.cc/bbs/Gossiping/M.1742975630.A.C3C.html [新聞] 台中變態男性侵國小繼女　狡辯管教嚴厲被\n",
            " 3/26 https://www.ptt.cc/bbs/Gossiping/M.1742975770.A.108.html [問卦] 不廣告。為什麼大哥大姐愛穿S牌鞋子？\n",
            " 3/26 https://www.ptt.cc/bbs/Gossiping/M.1742975795.A.33E.html Re: [新聞] 中研院士陳培哲等75學者聯合聲明 指言論\n",
            " 3/26 https://www.ptt.cc/bbs/Gossiping/M.1742975830.A.8DC.html [問卦] 如何搭訕公園的年輕媽媽\n",
            " 3/26 https://www.ptt.cc/bbs/Gossiping/M.1742975836.A.8E9.html [問卦] 台灣餐飲業崩盤  到處都是火鍋店？\n",
            " 3/26 https://www.ptt.cc/bbs/Gossiping/M.1742975929.A.463.html [新聞] 陸配亞亞限期離境 王鴻薇：不重視人權 \n",
            " 3/26 https://www.ptt.cc/bbs/Gossiping/M.1742973754.A.F52.html Re: [新聞] 「富察」李延賀已被判3年 陸國台辦公開\n",
            " 3/26 https://www.ptt.cc/bbs/Gossiping/M.1742973762.A.A33.html [新聞] 說明會臨時喊卡！光電業者欲於麻豆設置\n",
            " 3/26 https://www.ptt.cc/bbs/Gossiping/M.1742973778.A.086.html [問卦] 聽說以前有段時間買房不用頭期款?\n",
            " 3/26 https://www.ptt.cc/bbs/Gossiping/M.1742973803.A.01C.html [問卦] 美國白人在幹麻？怎麼人口佔比快腰斬了\n",
            " 3/26 https://www.ptt.cc/bbs/Gossiping/M.1742973838.A.284.html Re: [新聞]「台灣有事」應變計劃出爐 日本擬6天撤離1\n",
            " 3/26 https://www.ptt.cc/bbs/Gossiping/M.1742973863.A.5DD.html [問卦] 貓貓484累壞了？？？？\n",
            " 3/26 https://www.ptt.cc/bbs/Gossiping/M.1742973938.A.3E8.html [問卦] 延長線可以用吹風機卻不能充手機\n",
            " 3/26 https://www.ptt.cc/bbs/Gossiping/M.1742974000.A.5F0.html [問卦] 最近一堆辦公大樓都貼防空警報導引\n",
            " 3/26 https://www.ptt.cc/bbs/Gossiping/M.1742974087.A.F2C.html [問卦] 同時使用烤箱和微波爐會怎樣嗎？\n",
            " 3/26 https://www.ptt.cc/bbs/Gossiping/M.1742974211.A.F1A.html Re: [問卦] 靠北喔！現在不能當中國人了嗎？？？\n",
            " 3/26 https://www.ptt.cc/bbs/Gossiping/M.1742974322.A.896.html [問卦] 言論自由有保障冒充身分的自由嗎？\n",
            " 3/26 https://www.ptt.cc/bbs/Gossiping/M.1742974322.A.825.html Re: [問卦] 胖子健身就自稱壯了 怎麼反駁\n",
            " 3/26 https://www.ptt.cc/bbs/Gossiping/M.1742974328.A.450.html [問卦] GPT為什麼寫程式常常通靈R\n",
            " 3/26 https://www.ptt.cc/bbs/Gossiping/M.1742974534.A.D17.html [問卦] 台灣糧食靠進口為啥統一亞洲第一\n",
            " 3/26 https://www.ptt.cc/bbs/Gossiping/M.1742974535.A.90B.html [問卦] 星巴克是不是算平價的咖啡了\n",
            " 3/26 https://www.ptt.cc/bbs/Gossiping/M.1742974546.A.7F1.html Re: [問卦] 亞亞是不是被送去新疆改造營了\n",
            " 3/26 https://www.ptt.cc/bbs/Gossiping/M.1742974571.A.225.html [問卦] 台中砍人的會是動物還是植物？\n",
            " 3/26 https://www.ptt.cc/bbs/Gossiping/M.1742974707.A.C32.html Re: [新聞] 遭徐巧芯批職場霸凌「近乎瘋魔」　柯建\n",
            " 3/26 https://www.ptt.cc/bbs/Gossiping/M.1742974882.A.69C.html Re: [新聞] 獨家》預告對台「政治斬首」？反擊賴17\n",
            " 3/26 https://www.ptt.cc/bbs/Gossiping/M.1742974976.A.A57.html [問卦] 小學英文在教啥\n",
            " 3/26 https://www.ptt.cc/bbs/Gossiping/M.1742973002.A.24A.html Re: [新聞] 批藍白惡刪台電補助 民進黨：犧牲台電把\n",
            " 3/26 https://www.ptt.cc/bbs/Gossiping/M.1742973024.A.01D.html Re: [新聞]「台灣有事」應變計劃出爐 日本擬6天撤離1\n",
            " 3/26  (本文已被刪除) [gsbs]\n",
            " 3/26 https://www.ptt.cc/bbs/Gossiping/M.1742973210.A.21D.html [爆卦] 郵局開始強迫員工具結沒有陸籍 \n",
            " 3/26 https://www.ptt.cc/bbs/Gossiping/M.1742973259.A.0FB.html Re: [新聞] 獨家》預告對台「政治斬首」？反擊賴17\n",
            " 3/26 https://www.ptt.cc/bbs/Gossiping/M.1742973273.A.851.html [問卦] 題庫的答案和ai說的不一樣怎辦\n",
            " 3/26 https://www.ptt.cc/bbs/Gossiping/M.1742973293.A.CB0.html [問卦] SD卡 你們英文都怎麼打\n",
            " 3/26 https://www.ptt.cc/bbs/Gossiping/M.1742973350.A.1F9.html [問卦] 真的有人嫌房租太貴寄生在公司哦？\n",
            " 3/26 https://www.ptt.cc/bbs/Gossiping/M.1742973453.A.8D6.html Re: [問卦] 鍾明軒是發生什麼事才這麼挺中呀?\n",
            " 3/26 https://www.ptt.cc/bbs/Gossiping/M.1742973463.A.C3D.html [問卦] 中國現在上大號的廁所有門板嗎\n",
            " 3/26 https://www.ptt.cc/bbs/Gossiping/M.1742973464.A.4F1.html [問卦] 台中是超級行人地獄吧\n",
            " 3/26 https://www.ptt.cc/bbs/Gossiping/M.1742973473.A.04F.html [問卦] 什麼加上「民主」會提升層次？\n",
            " 3/26 https://www.ptt.cc/bbs/Gossiping/M.1742973508.A.D92.html [爆卦] 召委陪柯老開記者會當背板 委員會停擺\n",
            " 3/26 https://www.ptt.cc/bbs/Gossiping/M.1742973516.A.548.html [問卦] 為什麼美冴的高中制服放在埼玉縣家裡\n",
            " 3/26 https://www.ptt.cc/bbs/Gossiping/M.1742973561.A.A94.html [問卦] 3年多前的公投重來的話該怎麼投比較好\n",
            " 3/26 https://www.ptt.cc/bbs/Gossiping/M.1742973566.A.160.html [問卦] 公立國中小老師都管不動了 ？\n",
            " 3/26 https://www.ptt.cc/bbs/Gossiping/M.1742973622.A.86B.html Re: [問卦] 怎麼沒法律學者出來說有釋字644號？\n",
            " 3/26 https://www.ptt.cc/bbs/Gossiping/M.1742973623.A.DB2.html [新聞] 66歲產下男嬰 德國柏林圍牆博物館長迎來\n",
            " 3/26 https://www.ptt.cc/bbs/Gossiping/M.1742973652.A.B02.html [問卦] 驚!中國有50萬人民幣存款的只有500萬帳戶\n",
            " 3/26 https://www.ptt.cc/bbs/Gossiping/M.1742973698.A.B95.html [問卦] 打戰的時候串流訂閱不退484很虧 \n"
          ]
        }
      ]
    },
    {
      "cell_type": "code",
      "source": [
        "import csv"
      ],
      "metadata": {
        "id": "yvsZ6w-Rlhqe"
      },
      "execution_count": 13,
      "outputs": []
    }
  ]
}