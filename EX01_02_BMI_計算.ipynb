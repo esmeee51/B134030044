{
  "nbformat": 4,
  "nbformat_minor": 0,
  "metadata": {
    "colab": {
      "provenance": [],
      "authorship_tag": "ABX9TyPUNs7IYrHxkUnmhXmCsCZ6",
      "include_colab_link": true
    },
    "kernelspec": {
      "name": "python3",
      "display_name": "Python 3"
    },
    "language_info": {
      "name": "python"
    }
  },
  "cells": [
    {
      "cell_type": "markdown",
      "metadata": {
        "id": "view-in-github",
        "colab_type": "text"
      },
      "source": [
        "<a href=\"https://colab.research.google.com/github/esmeee51/B134030044/blob/main/EX01_02_BMI_%E8%A8%88%E7%AE%97.ipynb\" target=\"_parent\"><img src=\"https://colab.research.google.com/assets/colab-badge.svg\" alt=\"Open In Colab\"/></a>"
      ]
    },
    {
      "cell_type": "code",
      "execution_count": 2,
      "metadata": {
        "colab": {
          "base_uri": "https://localhost:8080/"
        },
        "id": "Vo0bhWUzK32G",
        "outputId": "db1f4944-4882-4bd1-8166-a20f97b9f9de"
      },
      "outputs": [
        {
          "output_type": "stream",
          "name": "stdout",
          "text": [
            "height(cm):170\n",
            "weight(kg):50\n",
            "bmi= 17.3\n"
          ]
        }
      ],
      "source": [
        "ht=float(input(\"height(cm):\"))\n",
        "wt=float(input(\"weight(kg):\"))\n",
        "bmi=wt/(ht/100)**2\n",
        "print(\"bmi=\",round(bmi,1))"
      ]
    }
  ]
}